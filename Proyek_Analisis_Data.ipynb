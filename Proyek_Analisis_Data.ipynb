{
  "cells": [
    {
      "cell_type": "markdown",
      "metadata": {
        "id": "H9wADwK78DCz"
      },
      "source": [
        "# Proyek Analisis Data: Bike Sharing Dataset\n",
        "- **Nama:** Dhea Fanny Putri Syarifa\n",
        "- **Email:** M279D4KX2220@bangkit.academy\n",
        "- **ID Dicoding:** dheafannyp40"
      ]
    },
    {
      "cell_type": "markdown",
      "metadata": {
        "id": "eE0raob58DC0"
      },
      "source": [
        "## Menentukan Pertanyaan Bisnis"
      ]
    },
    {
      "cell_type": "markdown",
      "metadata": {
        "id": "GmQeQ5YF8DC0"
      },
      "source": [
        "- Apakah cuaca tertentu memengaruhi pola penggunaan sepeda, seperti apakah orang lebih cenderung menggunakan sepeda saat cuaca cerah atau dihari-hari hujan?\n",
        "- Bagaimana pola penggunaan sepeda berubah sepanjang tahun di semua musim?\n",
        "- Bagaimana tren penggunaan sepeda berubah sepanjang tahun?"
      ]
    },
    {
      "cell_type": "markdown",
      "metadata": {
        "id": "H-z4QGlO8DC1"
      },
      "source": [
        "## Import Semua Packages/Library yang Digunakan"
      ]
    },
    {
      "cell_type": "code",
      "execution_count": 5,
      "metadata": {
        "id": "FVYwaObI8DC1"
      },
      "outputs": [],
      "source": [
        "import numpy as np\n",
        "import pandas as pd\n",
        "import matplotlib.pyplot as plt\n",
        "import seaborn as sns"
      ]
    },
    {
      "cell_type": "markdown",
      "metadata": {
        "id": "h_Sh51Xy8DC1"
      },
      "source": [
        "## Data Wrangling"
      ]
    },
    {
      "cell_type": "markdown",
      "metadata": {
        "id": "kgwvlKPW-Yp4"
      },
      "source": [
        "Data wrangling merupakan sebuah proses atau kumpulan kegiatan yang meliputi pengumpulan data (Gathering data), penilaian data (Assessing data), serta pembersihan data (Cleaning data) sebelum data digunakan dalam proses analisis data"
      ]
    },
    {
      "cell_type": "markdown",
      "metadata": {
        "id": "sXU2GBYu8DC1"
      },
      "source": [
        "### Gathering Data"
      ]
    },
    {
      "cell_type": "markdown",
      "metadata": {
        "id": "trw1Ycnq9cPL"
      },
      "source": [
        "Gathering data merupakan proses mengumpulkan semua data yang dibutuhkan untuk menjawab semua pertanyaan atau masalah bisnis yang ingin kita hadapi. Pada tahap ini, kita akan mengambil data dari Dataset Bike Sharing dengan mengimpor dua file yaitu day.csv dan hr.csv."
      ]
    },
    {
      "cell_type": "code",
      "execution_count": 6,
      "metadata": {
        "colab": {
          "base_uri": "https://localhost:8080/",
          "height": 293
        },
        "id": "zjCBk1BI8DC1",
        "outputId": "c16ac48b-e952-4516-aa7f-17a26349cf05"
      },
      "outputs": [
        {
          "data": {
            "text/html": [
              "<div>\n",
              "<style scoped>\n",
              "    .dataframe tbody tr th:only-of-type {\n",
              "        vertical-align: middle;\n",
              "    }\n",
              "\n",
              "    .dataframe tbody tr th {\n",
              "        vertical-align: top;\n",
              "    }\n",
              "\n",
              "    .dataframe thead th {\n",
              "        text-align: right;\n",
              "    }\n",
              "</style>\n",
              "<table border=\"1\" class=\"dataframe\">\n",
              "  <thead>\n",
              "    <tr style=\"text-align: right;\">\n",
              "      <th></th>\n",
              "      <th>instant</th>\n",
              "      <th>dteday</th>\n",
              "      <th>season</th>\n",
              "      <th>yr</th>\n",
              "      <th>mnth</th>\n",
              "      <th>holiday</th>\n",
              "      <th>weekday</th>\n",
              "      <th>workingday</th>\n",
              "      <th>weathersit</th>\n",
              "      <th>temp</th>\n",
              "      <th>atemp</th>\n",
              "      <th>hum</th>\n",
              "      <th>windspeed</th>\n",
              "      <th>casual</th>\n",
              "      <th>registered</th>\n",
              "      <th>cnt</th>\n",
              "    </tr>\n",
              "  </thead>\n",
              "  <tbody>\n",
              "    <tr>\n",
              "      <th>0</th>\n",
              "      <td>1</td>\n",
              "      <td>2011-01-01</td>\n",
              "      <td>1</td>\n",
              "      <td>0</td>\n",
              "      <td>1</td>\n",
              "      <td>0</td>\n",
              "      <td>6</td>\n",
              "      <td>0</td>\n",
              "      <td>2</td>\n",
              "      <td>0.344167</td>\n",
              "      <td>0.363625</td>\n",
              "      <td>0.805833</td>\n",
              "      <td>0.160446</td>\n",
              "      <td>331</td>\n",
              "      <td>654</td>\n",
              "      <td>985</td>\n",
              "    </tr>\n",
              "    <tr>\n",
              "      <th>1</th>\n",
              "      <td>2</td>\n",
              "      <td>2011-01-02</td>\n",
              "      <td>1</td>\n",
              "      <td>0</td>\n",
              "      <td>1</td>\n",
              "      <td>0</td>\n",
              "      <td>0</td>\n",
              "      <td>0</td>\n",
              "      <td>2</td>\n",
              "      <td>0.363478</td>\n",
              "      <td>0.353739</td>\n",
              "      <td>0.696087</td>\n",
              "      <td>0.248539</td>\n",
              "      <td>131</td>\n",
              "      <td>670</td>\n",
              "      <td>801</td>\n",
              "    </tr>\n",
              "    <tr>\n",
              "      <th>2</th>\n",
              "      <td>3</td>\n",
              "      <td>2011-01-03</td>\n",
              "      <td>1</td>\n",
              "      <td>0</td>\n",
              "      <td>1</td>\n",
              "      <td>0</td>\n",
              "      <td>1</td>\n",
              "      <td>1</td>\n",
              "      <td>1</td>\n",
              "      <td>0.196364</td>\n",
              "      <td>0.189405</td>\n",
              "      <td>0.437273</td>\n",
              "      <td>0.248309</td>\n",
              "      <td>120</td>\n",
              "      <td>1229</td>\n",
              "      <td>1349</td>\n",
              "    </tr>\n",
              "    <tr>\n",
              "      <th>3</th>\n",
              "      <td>4</td>\n",
              "      <td>2011-01-04</td>\n",
              "      <td>1</td>\n",
              "      <td>0</td>\n",
              "      <td>1</td>\n",
              "      <td>0</td>\n",
              "      <td>2</td>\n",
              "      <td>1</td>\n",
              "      <td>1</td>\n",
              "      <td>0.200000</td>\n",
              "      <td>0.212122</td>\n",
              "      <td>0.590435</td>\n",
              "      <td>0.160296</td>\n",
              "      <td>108</td>\n",
              "      <td>1454</td>\n",
              "      <td>1562</td>\n",
              "    </tr>\n",
              "    <tr>\n",
              "      <th>4</th>\n",
              "      <td>5</td>\n",
              "      <td>2011-01-05</td>\n",
              "      <td>1</td>\n",
              "      <td>0</td>\n",
              "      <td>1</td>\n",
              "      <td>0</td>\n",
              "      <td>3</td>\n",
              "      <td>1</td>\n",
              "      <td>1</td>\n",
              "      <td>0.226957</td>\n",
              "      <td>0.229270</td>\n",
              "      <td>0.436957</td>\n",
              "      <td>0.186900</td>\n",
              "      <td>82</td>\n",
              "      <td>1518</td>\n",
              "      <td>1600</td>\n",
              "    </tr>\n",
              "  </tbody>\n",
              "</table>\n",
              "</div>"
            ],
            "text/plain": [
              "   instant      dteday  season  yr  mnth  holiday  weekday  workingday  \\\n",
              "0        1  2011-01-01       1   0     1        0        6           0   \n",
              "1        2  2011-01-02       1   0     1        0        0           0   \n",
              "2        3  2011-01-03       1   0     1        0        1           1   \n",
              "3        4  2011-01-04       1   0     1        0        2           1   \n",
              "4        5  2011-01-05       1   0     1        0        3           1   \n",
              "\n",
              "   weathersit      temp     atemp       hum  windspeed  casual  registered  \\\n",
              "0           2  0.344167  0.363625  0.805833   0.160446     331         654   \n",
              "1           2  0.363478  0.353739  0.696087   0.248539     131         670   \n",
              "2           1  0.196364  0.189405  0.437273   0.248309     120        1229   \n",
              "3           1  0.200000  0.212122  0.590435   0.160296     108        1454   \n",
              "4           1  0.226957  0.229270  0.436957   0.186900      82        1518   \n",
              "\n",
              "    cnt  \n",
              "0   985  \n",
              "1   801  \n",
              "2  1349  \n",
              "3  1562  \n",
              "4  1600  "
            ]
          },
          "execution_count": 6,
          "metadata": {},
          "output_type": "execute_result"
        }
      ],
      "source": [
        "#Baris ini membaca file CSV dengan nama \"day.csv\"\n",
        "day_df = pd.read_csv(\"day.csv\")\n",
        "day_df.head()"
      ]
    },
    {
      "cell_type": "code",
      "execution_count": 7,
      "metadata": {
        "colab": {
          "base_uri": "https://localhost:8080/",
          "height": 206
        },
        "id": "3DKPgRml_CsR",
        "outputId": "d319426d-2856-4326-f5a0-d6c94e43ebb4"
      },
      "outputs": [
        {
          "data": {
            "text/html": [
              "<div>\n",
              "<style scoped>\n",
              "    .dataframe tbody tr th:only-of-type {\n",
              "        vertical-align: middle;\n",
              "    }\n",
              "\n",
              "    .dataframe tbody tr th {\n",
              "        vertical-align: top;\n",
              "    }\n",
              "\n",
              "    .dataframe thead th {\n",
              "        text-align: right;\n",
              "    }\n",
              "</style>\n",
              "<table border=\"1\" class=\"dataframe\">\n",
              "  <thead>\n",
              "    <tr style=\"text-align: right;\">\n",
              "      <th></th>\n",
              "      <th>instant</th>\n",
              "      <th>dteday</th>\n",
              "      <th>season</th>\n",
              "      <th>yr</th>\n",
              "      <th>mnth</th>\n",
              "      <th>hr</th>\n",
              "      <th>holiday</th>\n",
              "      <th>weekday</th>\n",
              "      <th>workingday</th>\n",
              "      <th>weathersit</th>\n",
              "      <th>temp</th>\n",
              "      <th>atemp</th>\n",
              "      <th>hum</th>\n",
              "      <th>windspeed</th>\n",
              "      <th>casual</th>\n",
              "      <th>registered</th>\n",
              "      <th>cnt</th>\n",
              "    </tr>\n",
              "  </thead>\n",
              "  <tbody>\n",
              "    <tr>\n",
              "      <th>0</th>\n",
              "      <td>1</td>\n",
              "      <td>2011-01-01</td>\n",
              "      <td>1</td>\n",
              "      <td>0</td>\n",
              "      <td>1</td>\n",
              "      <td>0</td>\n",
              "      <td>0</td>\n",
              "      <td>6</td>\n",
              "      <td>0</td>\n",
              "      <td>1</td>\n",
              "      <td>0.24</td>\n",
              "      <td>0.2879</td>\n",
              "      <td>0.81</td>\n",
              "      <td>0.0</td>\n",
              "      <td>3</td>\n",
              "      <td>13</td>\n",
              "      <td>16</td>\n",
              "    </tr>\n",
              "    <tr>\n",
              "      <th>1</th>\n",
              "      <td>2</td>\n",
              "      <td>2011-01-01</td>\n",
              "      <td>1</td>\n",
              "      <td>0</td>\n",
              "      <td>1</td>\n",
              "      <td>1</td>\n",
              "      <td>0</td>\n",
              "      <td>6</td>\n",
              "      <td>0</td>\n",
              "      <td>1</td>\n",
              "      <td>0.22</td>\n",
              "      <td>0.2727</td>\n",
              "      <td>0.80</td>\n",
              "      <td>0.0</td>\n",
              "      <td>8</td>\n",
              "      <td>32</td>\n",
              "      <td>40</td>\n",
              "    </tr>\n",
              "    <tr>\n",
              "      <th>2</th>\n",
              "      <td>3</td>\n",
              "      <td>2011-01-01</td>\n",
              "      <td>1</td>\n",
              "      <td>0</td>\n",
              "      <td>1</td>\n",
              "      <td>2</td>\n",
              "      <td>0</td>\n",
              "      <td>6</td>\n",
              "      <td>0</td>\n",
              "      <td>1</td>\n",
              "      <td>0.22</td>\n",
              "      <td>0.2727</td>\n",
              "      <td>0.80</td>\n",
              "      <td>0.0</td>\n",
              "      <td>5</td>\n",
              "      <td>27</td>\n",
              "      <td>32</td>\n",
              "    </tr>\n",
              "    <tr>\n",
              "      <th>3</th>\n",
              "      <td>4</td>\n",
              "      <td>2011-01-01</td>\n",
              "      <td>1</td>\n",
              "      <td>0</td>\n",
              "      <td>1</td>\n",
              "      <td>3</td>\n",
              "      <td>0</td>\n",
              "      <td>6</td>\n",
              "      <td>0</td>\n",
              "      <td>1</td>\n",
              "      <td>0.24</td>\n",
              "      <td>0.2879</td>\n",
              "      <td>0.75</td>\n",
              "      <td>0.0</td>\n",
              "      <td>3</td>\n",
              "      <td>10</td>\n",
              "      <td>13</td>\n",
              "    </tr>\n",
              "    <tr>\n",
              "      <th>4</th>\n",
              "      <td>5</td>\n",
              "      <td>2011-01-01</td>\n",
              "      <td>1</td>\n",
              "      <td>0</td>\n",
              "      <td>1</td>\n",
              "      <td>4</td>\n",
              "      <td>0</td>\n",
              "      <td>6</td>\n",
              "      <td>0</td>\n",
              "      <td>1</td>\n",
              "      <td>0.24</td>\n",
              "      <td>0.2879</td>\n",
              "      <td>0.75</td>\n",
              "      <td>0.0</td>\n",
              "      <td>0</td>\n",
              "      <td>1</td>\n",
              "      <td>1</td>\n",
              "    </tr>\n",
              "  </tbody>\n",
              "</table>\n",
              "</div>"
            ],
            "text/plain": [
              "   instant      dteday  season  yr  mnth  hr  holiday  weekday  workingday  \\\n",
              "0        1  2011-01-01       1   0     1   0        0        6           0   \n",
              "1        2  2011-01-01       1   0     1   1        0        6           0   \n",
              "2        3  2011-01-01       1   0     1   2        0        6           0   \n",
              "3        4  2011-01-01       1   0     1   3        0        6           0   \n",
              "4        5  2011-01-01       1   0     1   4        0        6           0   \n",
              "\n",
              "   weathersit  temp   atemp   hum  windspeed  casual  registered  cnt  \n",
              "0           1  0.24  0.2879  0.81        0.0       3          13   16  \n",
              "1           1  0.22  0.2727  0.80        0.0       8          32   40  \n",
              "2           1  0.22  0.2727  0.80        0.0       5          27   32  \n",
              "3           1  0.24  0.2879  0.75        0.0       3          10   13  \n",
              "4           1  0.24  0.2879  0.75        0.0       0           1    1  "
            ]
          },
          "execution_count": 7,
          "metadata": {},
          "output_type": "execute_result"
        }
      ],
      "source": [
        "#Baris ini membaca file CSV dengan nama \"hour.csv\"\n",
        "hour_df = pd.read_csv(\"hour.csv\")\n",
        "hour_df.head()"
      ]
    },
    {
      "cell_type": "markdown",
      "metadata": {
        "id": "FHSiqaZp8DC1"
      },
      "source": [
        "### Assessing Data"
      ]
    },
    {
      "cell_type": "markdown",
      "metadata": {
        "id": "JLlS9-lnACu9"
      },
      "source": [
        "Pada proses ini bertujuan untuk mengidentifikasi berbagai masalah yang terdapat dalam data, seperti missing value, unstandard value, dll."
      ]
    },
    {
      "cell_type": "markdown",
      "metadata": {
        "id": "ckLapnkjHb6b"
      },
      "source": [
        "1. Assesing Data Pada day.csv"
      ]
    },
    {
      "cell_type": "code",
      "execution_count": 8,
      "metadata": {
        "colab": {
          "base_uri": "https://localhost:8080/"
        },
        "id": "ax-3tEjc9Cj1",
        "outputId": "172bd3ea-7dbe-412c-b9cc-d977c940f114"
      },
      "outputs": [
        {
          "name": "stdout",
          "output_type": "stream",
          "text": [
            "<class 'pandas.core.frame.DataFrame'>\n",
            "RangeIndex: 731 entries, 0 to 730\n",
            "Data columns (total 16 columns):\n",
            " #   Column      Non-Null Count  Dtype  \n",
            "---  ------      --------------  -----  \n",
            " 0   instant     731 non-null    int64  \n",
            " 1   dteday      731 non-null    object \n",
            " 2   season      731 non-null    int64  \n",
            " 3   yr          731 non-null    int64  \n",
            " 4   mnth        731 non-null    int64  \n",
            " 5   holiday     731 non-null    int64  \n",
            " 6   weekday     731 non-null    int64  \n",
            " 7   workingday  731 non-null    int64  \n",
            " 8   weathersit  731 non-null    int64  \n",
            " 9   temp        731 non-null    float64\n",
            " 10  atemp       731 non-null    float64\n",
            " 11  hum         731 non-null    float64\n",
            " 12  windspeed   731 non-null    float64\n",
            " 13  casual      731 non-null    int64  \n",
            " 14  registered  731 non-null    int64  \n",
            " 15  cnt         731 non-null    int64  \n",
            "dtypes: float64(4), int64(11), object(1)\n",
            "memory usage: 91.5+ KB\n"
          ]
        }
      ],
      "source": [
        "#1. Melihat informasi ringkas tentang struktur dan tipe data yang terdapat dalam DataFrame tersebut.\n",
        "day_df.info()"
      ]
    },
    {
      "cell_type": "markdown",
      "metadata": {
        "id": "x7AOqx4hAzJE"
      },
      "source": [
        "Keterangan : Terdapat tipe data yang tidak sesuai yaitu pada dteday yang bertipe data object. Harusnya bertipe datetime"
      ]
    },
    {
      "cell_type": "code",
      "execution_count": 9,
      "metadata": {
        "colab": {
          "base_uri": "https://localhost:8080/"
        },
        "id": "d1u5eKxkBx57",
        "outputId": "31de13a7-2f02-44b3-faec-862e77dfe134"
      },
      "outputs": [
        {
          "data": {
            "text/plain": [
              "instant       0\n",
              "dteday        0\n",
              "season        0\n",
              "yr            0\n",
              "mnth          0\n",
              "holiday       0\n",
              "weekday       0\n",
              "workingday    0\n",
              "weathersit    0\n",
              "temp          0\n",
              "atemp         0\n",
              "hum           0\n",
              "windspeed     0\n",
              "casual        0\n",
              "registered    0\n",
              "cnt           0\n",
              "dtype: int64"
            ]
          },
          "execution_count": 9,
          "metadata": {},
          "output_type": "execute_result"
        }
      ],
      "source": [
        "#2. selanjutnya, kita akan mengecek apakah ada missing value pada dataset day.*csv*\n",
        "day_df.isna().sum()"
      ]
    },
    {
      "cell_type": "markdown",
      "metadata": {
        "id": "jeStIHcLCJ7N"
      },
      "source": [
        "Keterangan : dataset day.csv tidak memiliki missing value"
      ]
    },
    {
      "cell_type": "code",
      "execution_count": 10,
      "metadata": {
        "colab": {
          "base_uri": "https://localhost:8080/"
        },
        "id": "FRVcU0CACPvq",
        "outputId": "39b373bd-2fdc-4cc2-d0fe-83dd6f267cbb"
      },
      "outputs": [
        {
          "name": "stdout",
          "output_type": "stream",
          "text": [
            "Jumlah duplikasi:  0\n"
          ]
        }
      ],
      "source": [
        "#3. Cek apakah ada data yang duplikat\n",
        "print(\"Jumlah duplikasi: \", day_df.duplicated().sum())"
      ]
    },
    {
      "cell_type": "markdown",
      "metadata": {
        "id": "2u6FHMMOCbsg"
      },
      "source": [
        "Keterangan : dataset day.csv tidak memiliki data duplikat"
      ]
    },
    {
      "cell_type": "code",
      "execution_count": 11,
      "metadata": {
        "colab": {
          "base_uri": "https://localhost:8080/",
          "height": 320
        },
        "id": "B5jREwN_Csim",
        "outputId": "ba24d59d-4b2a-40c2-9e7b-dfd4956e8b70"
      },
      "outputs": [
        {
          "data": {
            "text/html": [
              "<div>\n",
              "<style scoped>\n",
              "    .dataframe tbody tr th:only-of-type {\n",
              "        vertical-align: middle;\n",
              "    }\n",
              "\n",
              "    .dataframe tbody tr th {\n",
              "        vertical-align: top;\n",
              "    }\n",
              "\n",
              "    .dataframe thead th {\n",
              "        text-align: right;\n",
              "    }\n",
              "</style>\n",
              "<table border=\"1\" class=\"dataframe\">\n",
              "  <thead>\n",
              "    <tr style=\"text-align: right;\">\n",
              "      <th></th>\n",
              "      <th>instant</th>\n",
              "      <th>season</th>\n",
              "      <th>yr</th>\n",
              "      <th>mnth</th>\n",
              "      <th>holiday</th>\n",
              "      <th>weekday</th>\n",
              "      <th>workingday</th>\n",
              "      <th>weathersit</th>\n",
              "      <th>temp</th>\n",
              "      <th>atemp</th>\n",
              "      <th>hum</th>\n",
              "      <th>windspeed</th>\n",
              "      <th>casual</th>\n",
              "      <th>registered</th>\n",
              "      <th>cnt</th>\n",
              "    </tr>\n",
              "  </thead>\n",
              "  <tbody>\n",
              "    <tr>\n",
              "      <th>count</th>\n",
              "      <td>731.000000</td>\n",
              "      <td>731.000000</td>\n",
              "      <td>731.000000</td>\n",
              "      <td>731.000000</td>\n",
              "      <td>731.000000</td>\n",
              "      <td>731.000000</td>\n",
              "      <td>731.000000</td>\n",
              "      <td>731.000000</td>\n",
              "      <td>731.000000</td>\n",
              "      <td>731.000000</td>\n",
              "      <td>731.000000</td>\n",
              "      <td>731.000000</td>\n",
              "      <td>731.000000</td>\n",
              "      <td>731.000000</td>\n",
              "      <td>731.000000</td>\n",
              "    </tr>\n",
              "    <tr>\n",
              "      <th>mean</th>\n",
              "      <td>366.000000</td>\n",
              "      <td>2.496580</td>\n",
              "      <td>0.500684</td>\n",
              "      <td>6.519836</td>\n",
              "      <td>0.028728</td>\n",
              "      <td>2.997264</td>\n",
              "      <td>0.683995</td>\n",
              "      <td>1.395349</td>\n",
              "      <td>0.495385</td>\n",
              "      <td>0.474354</td>\n",
              "      <td>0.627894</td>\n",
              "      <td>0.190486</td>\n",
              "      <td>848.176471</td>\n",
              "      <td>3656.172367</td>\n",
              "      <td>4504.348837</td>\n",
              "    </tr>\n",
              "    <tr>\n",
              "      <th>std</th>\n",
              "      <td>211.165812</td>\n",
              "      <td>1.110807</td>\n",
              "      <td>0.500342</td>\n",
              "      <td>3.451913</td>\n",
              "      <td>0.167155</td>\n",
              "      <td>2.004787</td>\n",
              "      <td>0.465233</td>\n",
              "      <td>0.544894</td>\n",
              "      <td>0.183051</td>\n",
              "      <td>0.162961</td>\n",
              "      <td>0.142429</td>\n",
              "      <td>0.077498</td>\n",
              "      <td>686.622488</td>\n",
              "      <td>1560.256377</td>\n",
              "      <td>1937.211452</td>\n",
              "    </tr>\n",
              "    <tr>\n",
              "      <th>min</th>\n",
              "      <td>1.000000</td>\n",
              "      <td>1.000000</td>\n",
              "      <td>0.000000</td>\n",
              "      <td>1.000000</td>\n",
              "      <td>0.000000</td>\n",
              "      <td>0.000000</td>\n",
              "      <td>0.000000</td>\n",
              "      <td>1.000000</td>\n",
              "      <td>0.059130</td>\n",
              "      <td>0.079070</td>\n",
              "      <td>0.000000</td>\n",
              "      <td>0.022392</td>\n",
              "      <td>2.000000</td>\n",
              "      <td>20.000000</td>\n",
              "      <td>22.000000</td>\n",
              "    </tr>\n",
              "    <tr>\n",
              "      <th>25%</th>\n",
              "      <td>183.500000</td>\n",
              "      <td>2.000000</td>\n",
              "      <td>0.000000</td>\n",
              "      <td>4.000000</td>\n",
              "      <td>0.000000</td>\n",
              "      <td>1.000000</td>\n",
              "      <td>0.000000</td>\n",
              "      <td>1.000000</td>\n",
              "      <td>0.337083</td>\n",
              "      <td>0.337842</td>\n",
              "      <td>0.520000</td>\n",
              "      <td>0.134950</td>\n",
              "      <td>315.500000</td>\n",
              "      <td>2497.000000</td>\n",
              "      <td>3152.000000</td>\n",
              "    </tr>\n",
              "    <tr>\n",
              "      <th>50%</th>\n",
              "      <td>366.000000</td>\n",
              "      <td>3.000000</td>\n",
              "      <td>1.000000</td>\n",
              "      <td>7.000000</td>\n",
              "      <td>0.000000</td>\n",
              "      <td>3.000000</td>\n",
              "      <td>1.000000</td>\n",
              "      <td>1.000000</td>\n",
              "      <td>0.498333</td>\n",
              "      <td>0.486733</td>\n",
              "      <td>0.626667</td>\n",
              "      <td>0.180975</td>\n",
              "      <td>713.000000</td>\n",
              "      <td>3662.000000</td>\n",
              "      <td>4548.000000</td>\n",
              "    </tr>\n",
              "    <tr>\n",
              "      <th>75%</th>\n",
              "      <td>548.500000</td>\n",
              "      <td>3.000000</td>\n",
              "      <td>1.000000</td>\n",
              "      <td>10.000000</td>\n",
              "      <td>0.000000</td>\n",
              "      <td>5.000000</td>\n",
              "      <td>1.000000</td>\n",
              "      <td>2.000000</td>\n",
              "      <td>0.655417</td>\n",
              "      <td>0.608602</td>\n",
              "      <td>0.730209</td>\n",
              "      <td>0.233214</td>\n",
              "      <td>1096.000000</td>\n",
              "      <td>4776.500000</td>\n",
              "      <td>5956.000000</td>\n",
              "    </tr>\n",
              "    <tr>\n",
              "      <th>max</th>\n",
              "      <td>731.000000</td>\n",
              "      <td>4.000000</td>\n",
              "      <td>1.000000</td>\n",
              "      <td>12.000000</td>\n",
              "      <td>1.000000</td>\n",
              "      <td>6.000000</td>\n",
              "      <td>1.000000</td>\n",
              "      <td>3.000000</td>\n",
              "      <td>0.861667</td>\n",
              "      <td>0.840896</td>\n",
              "      <td>0.972500</td>\n",
              "      <td>0.507463</td>\n",
              "      <td>3410.000000</td>\n",
              "      <td>6946.000000</td>\n",
              "      <td>8714.000000</td>\n",
              "    </tr>\n",
              "  </tbody>\n",
              "</table>\n",
              "</div>"
            ],
            "text/plain": [
              "          instant      season          yr        mnth     holiday     weekday  \\\n",
              "count  731.000000  731.000000  731.000000  731.000000  731.000000  731.000000   \n",
              "mean   366.000000    2.496580    0.500684    6.519836    0.028728    2.997264   \n",
              "std    211.165812    1.110807    0.500342    3.451913    0.167155    2.004787   \n",
              "min      1.000000    1.000000    0.000000    1.000000    0.000000    0.000000   \n",
              "25%    183.500000    2.000000    0.000000    4.000000    0.000000    1.000000   \n",
              "50%    366.000000    3.000000    1.000000    7.000000    0.000000    3.000000   \n",
              "75%    548.500000    3.000000    1.000000   10.000000    0.000000    5.000000   \n",
              "max    731.000000    4.000000    1.000000   12.000000    1.000000    6.000000   \n",
              "\n",
              "       workingday  weathersit        temp       atemp         hum   windspeed  \\\n",
              "count  731.000000  731.000000  731.000000  731.000000  731.000000  731.000000   \n",
              "mean     0.683995    1.395349    0.495385    0.474354    0.627894    0.190486   \n",
              "std      0.465233    0.544894    0.183051    0.162961    0.142429    0.077498   \n",
              "min      0.000000    1.000000    0.059130    0.079070    0.000000    0.022392   \n",
              "25%      0.000000    1.000000    0.337083    0.337842    0.520000    0.134950   \n",
              "50%      1.000000    1.000000    0.498333    0.486733    0.626667    0.180975   \n",
              "75%      1.000000    2.000000    0.655417    0.608602    0.730209    0.233214   \n",
              "max      1.000000    3.000000    0.861667    0.840896    0.972500    0.507463   \n",
              "\n",
              "            casual   registered          cnt  \n",
              "count   731.000000   731.000000   731.000000  \n",
              "mean    848.176471  3656.172367  4504.348837  \n",
              "std     686.622488  1560.256377  1937.211452  \n",
              "min       2.000000    20.000000    22.000000  \n",
              "25%     315.500000  2497.000000  3152.000000  \n",
              "50%     713.000000  3662.000000  4548.000000  \n",
              "75%    1096.000000  4776.500000  5956.000000  \n",
              "max    3410.000000  6946.000000  8714.000000  "
            ]
          },
          "execution_count": 11,
          "metadata": {},
          "output_type": "execute_result"
        }
      ],
      "source": [
        "#4. Melihat adanya outlier\n",
        "day_df.describe()"
      ]
    },
    {
      "cell_type": "markdown",
      "metadata": {
        "id": "qcmZ71P1G7So"
      },
      "source": [
        "Keterangan : Dari hasil day_df.describe(), kita dapat melihat beberapa kolom numerik seperti casual, registered, dan cnt memiliki nilai maksimum yang jauh lebih tinggi daripada nilai kuartil atas (75%). Nilai-nilai ini dapat diindikasikan sebagai potensi outlier."
      ]
    },
    {
      "cell_type": "code",
      "execution_count": 12,
      "metadata": {
        "colab": {
          "base_uri": "https://localhost:8080/",
          "height": 600
        },
        "id": "lNJ5HRplWtoz",
        "outputId": "f98bf615-330a-403b-add2-a273bf9d1f19"
      },
      "outputs": [
        {
          "data": {
            "image/png": "[encoded data removed]",
            "text/plain": [
              "<Figure size 1000x600 with 1 Axes>"
            ]
          },
          "metadata": {},
          "output_type": "display_data"
        },
        {
          "name": "stdout",
          "output_type": "stream",
          "text": [
            "Jumlah Outlier: 44\n",
            "Indeks Outlier: [148, 183, 184, 196, 246, 281, 441, 447, 455, 456, 462, 469, 470, 476, 490, 497, 504, 505, 511, 512, 513, 518, 519, 525, 532, 533, 539, 540, 550, 560, 568, 581, 595, 609, 610, 617, 623, 630, 631, 637, 644, 658, 665, 680]\n"
          ]
        }
      ],
      "source": [
        "#Mengecek apakah ada outlier pada kolom casual, registered, dan cnt menggunakan bloxpot\n",
        "\n",
        "# Visualisasi data menggunakan box plot\n",
        "plt.figure(figsize=(10, 6))\n",
        "day_df.boxplot(column=['casual', 'registered', 'cnt'])\n",
        "plt.title('Box Plot untuk Variabel Casual, Registered, dan Cnt')\n",
        "plt.ylabel('Jumlah')\n",
        "plt.show()\n",
        "\n",
        "# Menghitung Q1 dan Q3\n",
        "Q1 = day_df[['casual', 'registered', 'cnt']].quantile(0.25)\n",
        "Q3 = day_df[['casual', 'registered', 'cnt']].quantile(0.75)\n",
        "\n",
        "# Menghitung IQR\n",
        "IQR = Q3 - Q1\n",
        "\n",
        "# Mengidentifikasi outlier berdasarkan metode IQR\n",
        "outliers = ((day_df[['casual', 'registered', 'cnt']] < (Q1 - 1.5 * IQR)) | (day_df[['casual', 'registered', 'cnt']] > (Q3 + 1.5 * IQR))).any(axis=1)\n",
        "\n",
        "# Menampilkan outlier\n",
        "print(\"Jumlah Outlier:\", outliers.sum())\n",
        "print(\"Indeks Outlier:\", day_df.index[outliers].tolist())\n"
      ]
    },
    {
      "cell_type": "markdown",
      "metadata": {
        "id": "uew7HmtjW4ly"
      },
      "source": [
        "Keterangan : Ternyata pada bagian casual benar terdapat outlier."
      ]
    },
    {
      "cell_type": "markdown",
      "metadata": {
        "id": "ituKj8NNHltk"
      },
      "source": [
        "2. Assesing Data dari hour.csv"
      ]
    },
    {
      "cell_type": "code",
      "execution_count": 13,
      "metadata": {
        "colab": {
          "base_uri": "https://localhost:8080/"
        },
        "id": "yWJtgkekGR1X",
        "outputId": "1d72bdd4-7678-4e9d-d1e9-2b41ece530cc"
      },
      "outputs": [
        {
          "name": "stdout",
          "output_type": "stream",
          "text": [
            "<class 'pandas.core.frame.DataFrame'>\n",
            "RangeIndex: 17379 entries, 0 to 17378\n",
            "Data columns (total 17 columns):\n",
            " #   Column      Non-Null Count  Dtype  \n",
            "---  ------      --------------  -----  \n",
            " 0   instant     17379 non-null  int64  \n",
            " 1   dteday      17379 non-null  object \n",
            " 2   season      17379 non-null  int64  \n",
            " 3   yr          17379 non-null  int64  \n",
            " 4   mnth        17379 non-null  int64  \n",
            " 5   hr          17379 non-null  int64  \n",
            " 6   holiday     17379 non-null  int64  \n",
            " 7   weekday     17379 non-null  int64  \n",
            " 8   workingday  17379 non-null  int64  \n",
            " 9   weathersit  17379 non-null  int64  \n",
            " 10  temp        17379 non-null  float64\n",
            " 11  atemp       17379 non-null  float64\n",
            " 12  hum         17379 non-null  float64\n",
            " 13  windspeed   17379 non-null  float64\n",
            " 14  casual      17379 non-null  int64  \n",
            " 15  registered  17379 non-null  int64  \n",
            " 16  cnt         17379 non-null  int64  \n",
            "dtypes: float64(4), int64(12), object(1)\n",
            "memory usage: 2.3+ MB\n"
          ]
        }
      ],
      "source": [
        "#1. Melihat informasi ringkas tentang struktur dan tipe data yang terdapat dalam DataFrame tersebut.\n",
        "hour_df.info()"
      ]
    },
    {
      "cell_type": "markdown",
      "metadata": {
        "id": "Y8pzsndPIuIT"
      },
      "source": [
        "Keterangan : Terdapat tipe data yang tidak sesuai yaitu pada dteday yang bertipe data object. Harusnya bertipe datetime"
      ]
    },
    {
      "cell_type": "code",
      "execution_count": 14,
      "metadata": {
        "colab": {
          "base_uri": "https://localhost:8080/"
        },
        "id": "_iTL9nJrHwo5",
        "outputId": "2d9c8bfe-e934-4ff4-f1e2-db48b8e803f9"
      },
      "outputs": [
        {
          "data": {
            "text/plain": [
              "instant       0\n",
              "dteday        0\n",
              "season        0\n",
              "yr            0\n",
              "mnth          0\n",
              "hr            0\n",
              "holiday       0\n",
              "weekday       0\n",
              "workingday    0\n",
              "weathersit    0\n",
              "temp          0\n",
              "atemp         0\n",
              "hum           0\n",
              "windspeed     0\n",
              "casual        0\n",
              "registered    0\n",
              "cnt           0\n",
              "dtype: int64"
            ]
          },
          "execution_count": 14,
          "metadata": {},
          "output_type": "execute_result"
        }
      ],
      "source": [
        "#2. selanjutnya, kita akan mengecek apakah ada missing value pada dataset hour.*csv*\n",
        "hour_df.isna().sum()"
      ]
    },
    {
      "cell_type": "markdown",
      "metadata": {
        "id": "G6Y0_hkfJAoB"
      },
      "source": [
        "Keterangan : dataset hour.csv tidak memiliki missing value"
      ]
    },
    {
      "cell_type": "code",
      "execution_count": 15,
      "metadata": {
        "colab": {
          "base_uri": "https://localhost:8080/"
        },
        "id": "lw3kpQDQHzI1",
        "outputId": "a8ed9e08-90f3-49dc-ae1a-f545a769fe77"
      },
      "outputs": [
        {
          "name": "stdout",
          "output_type": "stream",
          "text": [
            "Jumlah duplikasi:  0\n"
          ]
        }
      ],
      "source": [
        "#3. Cek apakah ada data yang duplikat\n",
        "print(\"Jumlah duplikasi: \", hour_df.duplicated().sum())"
      ]
    },
    {
      "cell_type": "markdown",
      "metadata": {
        "id": "b9ienQE6JNY2"
      },
      "source": [
        "Keterangan : dataset day.csv tidak memiliki data duplikat"
      ]
    },
    {
      "cell_type": "code",
      "execution_count": 16,
      "metadata": {
        "colab": {
          "base_uri": "https://localhost:8080/",
          "height": 320
        },
        "id": "q2vTRJwJH1j-",
        "outputId": "4dacf416-2e22-4970-de8b-585812539dfa"
      },
      "outputs": [
        {
          "data": {
            "text/html": [
              "<div>\n",
              "<style scoped>\n",
              "    .dataframe tbody tr th:only-of-type {\n",
              "        vertical-align: middle;\n",
              "    }\n",
              "\n",
              "    .dataframe tbody tr th {\n",
              "        vertical-align: top;\n",
              "    }\n",
              "\n",
              "    .dataframe thead th {\n",
              "        text-align: right;\n",
              "    }\n",
              "</style>\n",
              "<table border=\"1\" class=\"dataframe\">\n",
              "  <thead>\n",
              "    <tr style=\"text-align: right;\">\n",
              "      <th></th>\n",
              "      <th>instant</th>\n",
              "      <th>season</th>\n",
              "      <th>yr</th>\n",
              "      <th>mnth</th>\n",
              "      <th>hr</th>\n",
              "      <th>holiday</th>\n",
              "      <th>weekday</th>\n",
              "      <th>workingday</th>\n",
              "      <th>weathersit</th>\n",
              "      <th>temp</th>\n",
              "      <th>atemp</th>\n",
              "      <th>hum</th>\n",
              "      <th>windspeed</th>\n",
              "      <th>casual</th>\n",
              "      <th>registered</th>\n",
              "      <th>cnt</th>\n",
              "    </tr>\n",
              "  </thead>\n",
              "  <tbody>\n",
              "    <tr>\n",
              "      <th>count</th>\n",
              "      <td>17379.0000</td>\n",
              "      <td>17379.000000</td>\n",
              "      <td>17379.000000</td>\n",
              "      <td>17379.000000</td>\n",
              "      <td>17379.000000</td>\n",
              "      <td>17379.000000</td>\n",
              "      <td>17379.000000</td>\n",
              "      <td>17379.000000</td>\n",
              "      <td>17379.000000</td>\n",
              "      <td>17379.000000</td>\n",
              "      <td>17379.000000</td>\n",
              "      <td>17379.000000</td>\n",
              "      <td>17379.000000</td>\n",
              "      <td>17379.000000</td>\n",
              "      <td>17379.000000</td>\n",
              "      <td>17379.000000</td>\n",
              "    </tr>\n",
              "    <tr>\n",
              "      <th>mean</th>\n",
              "      <td>8690.0000</td>\n",
              "      <td>2.501640</td>\n",
              "      <td>0.502561</td>\n",
              "      <td>6.537775</td>\n",
              "      <td>11.546752</td>\n",
              "      <td>0.028770</td>\n",
              "      <td>3.003683</td>\n",
              "      <td>0.682721</td>\n",
              "      <td>1.425283</td>\n",
              "      <td>0.496987</td>\n",
              "      <td>0.475775</td>\n",
              "      <td>0.627229</td>\n",
              "      <td>0.190098</td>\n",
              "      <td>35.676218</td>\n",
              "      <td>153.786869</td>\n",
              "      <td>189.463088</td>\n",
              "    </tr>\n",
              "    <tr>\n",
              "      <th>std</th>\n",
              "      <td>5017.0295</td>\n",
              "      <td>1.106918</td>\n",
              "      <td>0.500008</td>\n",
              "      <td>3.438776</td>\n",
              "      <td>6.914405</td>\n",
              "      <td>0.167165</td>\n",
              "      <td>2.005771</td>\n",
              "      <td>0.465431</td>\n",
              "      <td>0.639357</td>\n",
              "      <td>0.192556</td>\n",
              "      <td>0.171850</td>\n",
              "      <td>0.192930</td>\n",
              "      <td>0.122340</td>\n",
              "      <td>49.305030</td>\n",
              "      <td>151.357286</td>\n",
              "      <td>181.387599</td>\n",
              "    </tr>\n",
              "    <tr>\n",
              "      <th>min</th>\n",
              "      <td>1.0000</td>\n",
              "      <td>1.000000</td>\n",
              "      <td>0.000000</td>\n",
              "      <td>1.000000</td>\n",
              "      <td>0.000000</td>\n",
              "      <td>0.000000</td>\n",
              "      <td>0.000000</td>\n",
              "      <td>0.000000</td>\n",
              "      <td>1.000000</td>\n",
              "      <td>0.020000</td>\n",
              "      <td>0.000000</td>\n",
              "      <td>0.000000</td>\n",
              "      <td>0.000000</td>\n",
              "      <td>0.000000</td>\n",
              "      <td>0.000000</td>\n",
              "      <td>1.000000</td>\n",
              "    </tr>\n",
              "    <tr>\n",
              "      <th>25%</th>\n",
              "      <td>4345.5000</td>\n",
              "      <td>2.000000</td>\n",
              "      <td>0.000000</td>\n",
              "      <td>4.000000</td>\n",
              "      <td>6.000000</td>\n",
              "      <td>0.000000</td>\n",
              "      <td>1.000000</td>\n",
              "      <td>0.000000</td>\n",
              "      <td>1.000000</td>\n",
              "      <td>0.340000</td>\n",
              "      <td>0.333300</td>\n",
              "      <td>0.480000</td>\n",
              "      <td>0.104500</td>\n",
              "      <td>4.000000</td>\n",
              "      <td>34.000000</td>\n",
              "      <td>40.000000</td>\n",
              "    </tr>\n",
              "    <tr>\n",
              "      <th>50%</th>\n",
              "      <td>8690.0000</td>\n",
              "      <td>3.000000</td>\n",
              "      <td>1.000000</td>\n",
              "      <td>7.000000</td>\n",
              "      <td>12.000000</td>\n",
              "      <td>0.000000</td>\n",
              "      <td>3.000000</td>\n",
              "      <td>1.000000</td>\n",
              "      <td>1.000000</td>\n",
              "      <td>0.500000</td>\n",
              "      <td>0.484800</td>\n",
              "      <td>0.630000</td>\n",
              "      <td>0.194000</td>\n",
              "      <td>17.000000</td>\n",
              "      <td>115.000000</td>\n",
              "      <td>142.000000</td>\n",
              "    </tr>\n",
              "    <tr>\n",
              "      <th>75%</th>\n",
              "      <td>13034.5000</td>\n",
              "      <td>3.000000</td>\n",
              "      <td>1.000000</td>\n",
              "      <td>10.000000</td>\n",
              "      <td>18.000000</td>\n",
              "      <td>0.000000</td>\n",
              "      <td>5.000000</td>\n",
              "      <td>1.000000</td>\n",
              "      <td>2.000000</td>\n",
              "      <td>0.660000</td>\n",
              "      <td>0.621200</td>\n",
              "      <td>0.780000</td>\n",
              "      <td>0.253700</td>\n",
              "      <td>48.000000</td>\n",
              "      <td>220.000000</td>\n",
              "      <td>281.000000</td>\n",
              "    </tr>\n",
              "    <tr>\n",
              "      <th>max</th>\n",
              "      <td>17379.0000</td>\n",
              "      <td>4.000000</td>\n",
              "      <td>1.000000</td>\n",
              "      <td>12.000000</td>\n",
              "      <td>23.000000</td>\n",
              "      <td>1.000000</td>\n",
              "      <td>6.000000</td>\n",
              "      <td>1.000000</td>\n",
              "      <td>4.000000</td>\n",
              "      <td>1.000000</td>\n",
              "      <td>1.000000</td>\n",
              "      <td>1.000000</td>\n",
              "      <td>0.850700</td>\n",
              "      <td>367.000000</td>\n",
              "      <td>886.000000</td>\n",
              "      <td>977.000000</td>\n",
              "    </tr>\n",
              "  </tbody>\n",
              "</table>\n",
              "</div>"
            ],
            "text/plain": [
              "          instant        season            yr          mnth            hr  \\\n",
              "count  17379.0000  17379.000000  17379.000000  17379.000000  17379.000000   \n",
              "mean    8690.0000      2.501640      0.502561      6.537775     11.546752   \n",
              "std     5017.0295      1.106918      0.500008      3.438776      6.914405   \n",
              "min        1.0000      1.000000      0.000000      1.000000      0.000000   \n",
              "25%     4345.5000      2.000000      0.000000      4.000000      6.000000   \n",
              "50%     8690.0000      3.000000      1.000000      7.000000     12.000000   \n",
              "75%    13034.5000      3.000000      1.000000     10.000000     18.000000   \n",
              "max    17379.0000      4.000000      1.000000     12.000000     23.000000   \n",
              "\n",
              "            holiday       weekday    workingday    weathersit          temp  \\\n",
              "count  17379.000000  17379.000000  17379.000000  17379.000000  17379.000000   \n",
              "mean       0.028770      3.003683      0.682721      1.425283      0.496987   \n",
              "std        0.167165      2.005771      0.465431      0.639357      0.192556   \n",
              "min        0.000000      0.000000      0.000000      1.000000      0.020000   \n",
              "25%        0.000000      1.000000      0.000000      1.000000      0.340000   \n",
              "50%        0.000000      3.000000      1.000000      1.000000      0.500000   \n",
              "75%        0.000000      5.000000      1.000000      2.000000      0.660000   \n",
              "max        1.000000      6.000000      1.000000      4.000000      1.000000   \n",
              "\n",
              "              atemp           hum     windspeed        casual    registered  \\\n",
              "count  17379.000000  17379.000000  17379.000000  17379.000000  17379.000000   \n",
              "mean       0.475775      0.627229      0.190098     35.676218    153.786869   \n",
              "std        0.171850      0.192930      0.122340     49.305030    151.357286   \n",
              "min        0.000000      0.000000      0.000000      0.000000      0.000000   \n",
              "25%        0.333300      0.480000      0.104500      4.000000     34.000000   \n",
              "50%        0.484800      0.630000      0.194000     17.000000    115.000000   \n",
              "75%        0.621200      0.780000      0.253700     48.000000    220.000000   \n",
              "max        1.000000      1.000000      0.850700    367.000000    886.000000   \n",
              "\n",
              "                cnt  \n",
              "count  17379.000000  \n",
              "mean     189.463088  \n",
              "std      181.387599  \n",
              "min        1.000000  \n",
              "25%       40.000000  \n",
              "50%      142.000000  \n",
              "75%      281.000000  \n",
              "max      977.000000  "
            ]
          },
          "execution_count": 16,
          "metadata": {},
          "output_type": "execute_result"
        }
      ],
      "source": [
        "#4. Melihat adanya outlier\n",
        "hour_df.describe()"
      ]
    },
    {
      "cell_type": "markdown",
      "metadata": {
        "id": "sKwH76xcLHsr"
      },
      "source": [
        "Dari hasil hour_df.describe(), kita dapat melihat beberapa kolom numerik seperti casual, registered, dan cnt memiliki nilai maksimum yang jauh lebih tinggi daripada nilai kuartil atas (75%). Nilai-nilai ini dapat diindikasikan sebagai potensi outlier."
      ]
    },
    {
      "cell_type": "code",
      "execution_count": 17,
      "metadata": {
        "colab": {
          "base_uri": "https://localhost:8080/",
          "height": 600
        },
        "id": "K_QwSmMzVspJ",
        "outputId": "5e356a90-e049-4f7b-a1b6-6d2bbc610b43"
      },
      "outputs": [
        {
          "data": {
            "image/png": "[encoded data removed]",
            "text/plain": [
              "<Figure size 1000x600 with 1 Axes>"
            ]
          },
          "metadata": {},
          "output_type": "display_data"
        },
        {
          "name": "stdout",
          "output_type": "stream",
          "text": [
            "Jumlah Outlier: 1821\n",
            "Indeks Outlier: [1633, 1634, 1635, 1771, 1772, 1773, 1774, 1775, 1776, 1795, 1797, 1798, 1941, 2126, 2127, 2128, 2129, 2130, 2131, 2132, 2276, 2296, 2297, 2298, 2299, 2461, 2462, 2463, 2464, 2465, 2466, 2467, 2607, 2608, 2609, 2610, 2611, 2612, 2628, 2629, 2630, 2631, 2632, 2633, 2634, 2635, 2773, 2774, 2775, 2776, 2777, 2778, 2779, 2780, 2781, 2799, 2941, 2942, 2943, 2944, 2945, 2946, 2947, 2965, 2966, 2967, 2968, 2969, 2970, 2995, 3019, 3067, 3133, 3134, 3135, 3136, 3137, 3138, 3139, 3187, 3276, 3277, 3278, 3279, 3280, 3281, 3282, 3283, 3284, 3285, 3300, 3301, 3302, 3303, 3304, 3308, 3379, 3445, 3446, 3447, 3448, 3449, 3450, 3451, 3452, 3468, 3469, 3470, 3471, 3472, 3473, 3474, 3475, 3476, 3477, 3492, 3493, 3494, 3495, 3496, 3497, 3612, 3613, 3614, 3615, 3616, 3617, 3618, 3619, 3620, 3637, 3638, 3639, 3640, 3641, 3642, 3643, 3644, 3667, 3668, 3783, 3784, 3785, 3786, 3787, 3788, 3804, 3805, 3806, 3809, 3810, 3835, 3836, 3883, 3884, 3949, 3950, 3951, 3952, 3953, 3954, 3955, 3956, 3973, 3974, 3975, 3976, 3977, 3978, 3979, 4027, 4117, 4118, 4119, 4120, 4121, 4122, 4123, 4125, 4140, 4141, 4142, 4143, 4144, 4145, 4146, 4147, 4148, 4171, 4172, 4195, 4220, 4234, 4285, 4286, 4287, 4288, 4289, 4290, 4291, 4292, 4293, 4294, 4308, 4309, 4310, 4311, 4312, 4313, 4314, 4315, 4331, 4332, 4333, 4334, 4335, 4336, 4337, 4338, 4339, 4340, 4341, 4342, 4343, 4344, 4387, 4454, 4455, 4456, 4457, 4458, 4459, 4460, 4461, 4462, 4478, 4479, 4480, 4481, 4482, 4483, 4484, 4485, 4579, 4594, 4621, 4622, 4623, 4624, 4625, 4626, 4627, 4628, 4629, 4644, 4645, 4646, 4647, 4648, 4649, 4650, 4651, 4652, 4653, 4959, 4962, 4982, 4983, 4984, 5125, 5126, 5127, 5128, 5129, 5130, 5150, 5151, 5152, 5153, 5227, 5293, 5294, 5297, 5298, 5300, 5319, 5320, 5321, 5322, 5323, 5324, 5371, 5372, 5395, 5461, 5462, 5463, 5464, 5465, 5466, 5467, 5468, 5485, 5486, 5515, 5516, 5536, 5537, 5538, 5539, 5564, 5642, 5643, 5644, 5645, 5646, 5647, 5648, 5670, 5694, 5695, 5718, 5742, 5786, 5787, 5788, 5789, 5790, 5791, 5792, 5807, 5808, 5809, 5810, 5811, 5812, 5813, 5814, 5815, 5816, 5833, 5834, 5835, 5951, 5952, 5953, 5954, 5955, 5956, 5957, 5973, 5974, 5976, 5977, 5978, 5979, 5980, 6003, 6004, 6027, 6051, 6052, 6117, 6118, 6119, 6120, 6121, 6122, 6123, 6141, 6142, 6143, 6144, 6145, 6146, 6243, 6244, 6285, 6286, 6287, 6288, 6289, 6290, 6291, 6292, 6309, 6310, 6311, 6312, 6313, 6314, 6315, 6316, 6339, 6387, 6411, 6412, 6531, 6555, 6556, 6579, 6620, 6621, 6622, 6623, 6624, 6625, 6626, 6627, 6628, 6644, 6645, 6646, 6647, 6648, 6649, 6650, 6651, 6652, 6653, 6669, 6670, 6671, 6672, 6673, 6674, 6675, 6699, 6788, 6789, 6790, 6791, 6792, 6793, 6794, 6795, 6796, 6812, 6813, 6814, 6815, 6816, 6817, 6818, 6819, 6843, 6867, 6868, 6957, 6958, 6959, 6960, 6961, 6962, 6980, 6981, 6982, 6983, 6984, 6985, 6986, 7010, 7034, 7226, 7293, 7294, 7295, 7296, 7297, 7317, 7461, 7462, 7463, 7464, 7465, 7630, 7631, 7632, 7773, 7774, 7775, 7776, 7777, 7797, 7798, 7799, 7800, 7801, 8635, 8659, 8801, 8802, 8803, 8804, 9250, 9304, 9306, 9379, 9394, 9403, 9404, 9537, 9547, 9705, 9714, 9729, 9777, 9805, 9806, 9807, 9808, 9809, 9810, 9895, 9919, 9928, 10015, 10024, 10025, 10039, 10086, 10095, 10110, 10140, 10141, 10142, 10230, 10239, 10240, 10254, 10263, 10264, 10308, 10309, 10310, 10329, 10330, 10331, 10332, 10333, 10334, 10335, 10349, 10358, 10359, 10373, 10382, 10383, 10397, 10406, 10407, 10421, 10430, 10431, 10445, 10471, 10472, 10473, 10474, 10475, 10476, 10477, 10478, 10479, 10480, 10495, 10496, 10497, 10498, 10499, 10500, 10501, 10502, 10503, 10504, 10517, 10526, 10527, 10550, 10551, 10565, 10574, 10575, 10589, 10597, 10598, 10599, 10600, 10613, 10615, 10616, 10617, 10618, 10619, 10620, 10621, 10622, 10623, 10624, 10625, 10639, 10644, 10665, 10667, 10668, 10669, 10670, 10671, 10685, 10694, 10695, 10709, 10718, 10719, 10733, 10742, 10743, 10757, 10766, 10767, 10781, 10790, 10808, 10809, 10810, 10811, 10812, 10813, 10814, 10831, 10832, 10833, 10834, 10835, 10836, 10837, 10838, 10839, 10852, 10858, 10859, 10861, 10862, 10876, 10881, 10882, 10884, 10885, 10886, 10900, 10909, 10910, 10924, 10930, 10933, 10934, 10953, 10954, 10955, 10956, 10957, 10959, 10974, 10975, 10976, 10977, 10978, 10979, 10980, 10981, 10982, 10983, 10999, 11000, 11001, 11002, 11003, 11004, 11005, 11006, 11020, 11029, 11030, 11044, 11053, 11054, 11067, 11076, 11077, 11091, 11100, 11101, 11115, 11121, 11122, 11124, 11125, 11141, 11142, 11143, 11144, 11145, 11146, 11147, 11148, 11149, 11150, 11165, 11166, 11167, 11168, 11169, 11170, 11171, 11172, 11173, 11187, 11190, 11196, 11197, 11211, 11220, 11221, 11235, 11259, 11268, 11269, 11270, 11283, 11289, 11290, 11291, 11292, 11293, 11308, 11309, 11310, 11311, 11312, 11313, 11314, 11315, 11316, 11317, 11379, 11388, 11389, 11403, 11412, 11413, 11414, 11436, 11437, 11451, 11460, 11461, 11480, 11481, 11482, 11483, 11501, 11502, 11503, 11504, 11505, 11506, 11507, 11508, 11509, 11510, 11523, 11532, 11533, 11547, 11556, 11557, 11571, 11580, 11581, 11595, 11604, 11605, 11619, 11628, 11629, 11645, 11646, 11647, 11648, 11649, 11650, 11651, 11652, 11653, 11654, 11670, 11671, 11672, 11673, 11674, 11675, 11676, 11677, 11678, 11691, 11700, 11701, 11715, 11724, 11725, 11739, 11748, 11763, 11772, 11773, 11787, 11793, 11794, 11795, 11796, 11797, 11813, 11814, 11815, 11816, 11817, 11818, 11819, 11820, 11821, 11822, 11837, 11838, 11839, 11840, 11841, 11842, 11843, 11844, 11845, 11892, 11893, 11907, 11916, 11917, 11931, 11940, 11941, 11955, 11962, 11963, 11964, 11965, 11981, 11982, 11983, 11984, 11985, 11986, 11987, 11988, 11989, 11990, 11991, 12004, 12005, 12006, 12007, 12008, 12009, 12010, 12011, 12012, 12013, 12014, 12051, 12060, 12061, 12075, 12099, 12108, 12109, 12123, 12131, 12132, 12133, 12149, 12150, 12151, 12152, 12153, 12154, 12155, 12156, 12157, 12158, 12172, 12173, 12174, 12175, 12176, 12177, 12178, 12179, 12180, 12181, 12182, 12183, 12196, 12197, 12198, 12199, 12200, 12201, 12202, 12203, 12204, 12205, 12206, 12219, 12228, 12229, 12243, 12252, 12253, 12254, 12267, 12276, 12277, 12291, 12317, 12318, 12319, 12320, 12321, 12322, 12323, 12324, 12325, 12326, 12327, 12341, 12342, 12343, 12344, 12345, 12346, 12347, 12348, 12349, 12350, 12362, 12363, 12372, 12373, 12374, 12386, 12387, 12396, 12397, 12410, 12411, 12420, 12421, 12434, 12435, 12444, 12445, 12446, 12459, 12464, 12465, 12468, 12469, 12471, 12485, 12486, 12487, 12488, 12489, 12490, 12491, 12492, 12493, 12494, 12495, 12509, 12510, 12511, 12512, 12513, 12514, 12515, 12516, 12517, 12518, 12531, 12540, 12541, 12542, 12555, 12564, 12565, 12579, 12588, 12589, 12590, 12603, 12612, 12613, 12627, 12632, 12633, 12635, 12636, 12637, 12653, 12654, 12655, 12656, 12657, 12658, 12659, 12660, 12661, 12662, 12663, 12677, 12678, 12679, 12680, 12681, 12682, 12683, 12684, 12685, 12686, 12708, 12709, 12723, 12732, 12733, 12747, 12756, 12757, 12771, 12780, 12781, 12795, 12804, 12821, 12822, 12823, 12824, 12825, 12826, 12827, 12828, 12829, 12830, 12831, 12845, 12846, 12847, 12848, 12849, 12850, 12851, 12852, 12853, 12854, 12867, 12876, 12877, 12878, 12890, 12891, 12900, 12901, 12902, 12915, 12924, 12925, 12926, 12939, 12948, 12949, 12963, 12991, 12994, 12996, 12998, 13014, 13035, 13044, 13045, 13046, 13059, 13068, 13069, 13085, 13086, 13087, 13088, 13089, 13090, 13091, 13092, 13093, 13094, 13095, 13096, 13097, 13107, 13112, 13116, 13117, 13118, 13131, 13158, 13159, 13160, 13182, 13184, 13212, 13213, 13214, 13227, 13236, 13237, 13251, 13260, 13261, 13262, 13275, 13284, 13285, 13286, 13299, 13303, 13305, 13308, 13309, 13325, 13326, 13327, 13328, 13329, 13330, 13331, 13332, 13334, 13349, 13350, 13351, 13352, 13353, 13354, 13355, 13356, 13371, 13380, 13381, 13382, 13394, 13395, 13404, 13405, 13419, 13429, 13443, 13452, 13453, 13467, 13476, 13477, 13495, 13497, 13498, 13499, 13518, 13519, 13520, 13521, 13522, 13523, 13524, 13525, 13526, 13527, 13539, 13548, 13549, 13563, 13572, 13573, 13574, 13587, 13596, 13597, 13598, 13611, 13620, 13621, 13622, 13635, 13644, 13645, 13661, 13662, 13663, 13664, 13665, 13666, 13667, 13668, 13669, 13670, 13685, 13686, 13687, 13688, 13689, 13690, 13691, 13692, 13693, 13694, 13707, 13716, 13717, 13718, 13731, 13740, 13741, 13742, 13755, 13764, 13765, 13766, 13779, 13788, 13789, 13790, 13803, 13812, 13813, 13830, 13831, 13832, 13833, 13834, 13835, 13836, 13837, 13838, 13839, 13854, 13855, 13856, 13857, 13858, 13859, 13860, 13875, 13884, 13885, 13886, 13899, 13908, 13909, 13910, 13923, 13932, 13933, 13934, 13947, 13956, 13957, 13958, 13980, 13981, 13997, 13998, 13999, 14000, 14001, 14002, 14003, 14004, 14022, 14023, 14024, 14025, 14026, 14027, 14028, 14029, 14030, 14043, 14051, 14052, 14053, 14067, 14076, 14077, 14078, 14091, 14100, 14101, 14102, 14115, 14124, 14125, 14126, 14139, 14145, 14146, 14147, 14148, 14149, 14165, 14166, 14167, 14168, 14169, 14170, 14171, 14172, 14173, 14174, 14189, 14211, 14220, 14221, 14234, 14235, 14244, 14245, 14258, 14259, 14268, 14269, 14270, 14283, 14291, 14292, 14293, 14294, 14307, 14316, 14317, 14333, 14334, 14335, 14336, 14337, 14339, 14340, 14341, 14357, 14358, 14359, 14360, 14361, 14362, 14379, 14388, 14389, 14403, 14412, 14413, 14414, 14426, 14427, 14436, 14437, 14438, 14450, 14451, 14460, 14461, 14462, 14475, 14479, 14484, 14501, 14502, 14503, 14504, 14505, 14506, 14507, 14508, 14509, 14510, 14525, 14526, 14527, 14528, 14529, 14530, 14531, 14532, 14533, 14534, 14549, 14550, 14551, 14552, 14553, 14554, 14555, 14556, 14557, 14571, 14580, 14581, 14582, 14595, 14604, 14605, 14606, 14619, 14628, 14629, 14630, 14643, 14652, 14653, 14670, 14671, 14672, 14673, 14674, 14693, 14694, 14695, 14696, 14697, 14698, 14699, 14700, 14701, 14702, 14715, 14722, 14724, 14725, 14726, 14738, 14739, 14748, 14749, 14750, 14762, 14763, 14772, 14773, 14774, 14786, 14787, 14796, 14797, 14798, 14811, 14815, 14820, 14821, 14837, 14838, 14839, 14840, 14841, 14842, 14843, 14844, 14845, 14846, 14861, 14862, 14863, 14864, 14865, 14866, 14867, 14868, 14869, 14883, 14889, 14892, 14893, 14907, 14930, 14931, 14940, 14941, 14942, 14954, 14955, 14964, 14965, 14966, 14979, 14988, 14989, 15005, 15006, 15007, 15008, 15009, 15010, 15011, 15012, 15013, 15029, 15030, 15031, 15032, 15033, 15034, 15035, 15036, 15037, 15050, 15051, 15060, 15061, 15062, 15074, 15075, 15084, 15085, 15098, 15099, 15108, 15109, 15110, 15122, 15123, 15132, 15133, 15134, 15147, 15156, 15157, 15173, 15174, 15175, 15176, 15177, 15178, 15179, 15180, 15181, 15182, 15197, 15198, 15199, 15200, 15201, 15202, 15203, 15204, 15219, 15228, 15229, 15252, 15253, 15266, 15267, 15276, 15277, 15278, 15291, 15300, 15301, 15315, 15319, 15320, 15322, 15323, 15324, 15325, 15340, 15341, 15342, 15343, 15344, 15345, 15346, 15347, 15348, 15349, 15393, 15411, 15420, 15421, 15435, 15444, 15445, 15446, 15459, 15468, 15469, 15470, 15483, 15490, 15492, 15493, 15510, 15511, 15512, 15513, 15514, 15515, 15516, 15517, 15533, 15534, 15535, 15536, 15537, 15538, 15539, 15540, 15541, 15555, 15564, 15565, 15578, 15579, 15588, 15589, 15603, 15612, 15613, 15627, 15636, 15637, 15659, 15678, 15679, 15680, 15681, 15682, 15683, 15684, 15685, 15701, 15702, 15703, 15704, 15705, 15706, 15707, 15708, 15723, 15732, 15733, 15746, 15747, 15756, 15757, 15770, 15771, 15780, 15781, 15782, 15795, 15804, 15805, 15819, 15826, 15827, 15828, 15829, 15845, 15846, 15847, 15848, 15849, 15850, 15851, 15852, 15853, 15868, 15869, 15871, 15903, 15912, 15913, 15927, 15936, 15937, 15951, 15960, 15981, 15982, 16002, 16003, 16004, 16005, 16006, 16007, 16023, 16032, 16033, 16047, 16056, 16071, 16080, 16094, 16103, 16118, 16127, 16145, 16146, 16147, 16148, 16149, 16150, 16151, 16168, 16169, 16170, 16171, 16172, 16173, 16174, 16175, 16196, 16199, 16223, 16224, 16238, 16247, 16248, 16262, 16271, 16272, 16286, 16295, 16314, 16315, 16316, 16317, 16318, 16340, 16358, 16367, 16368, 16382, 16391, 16392, 16406, 16434, 16435, 16436, 16437, 16457, 16458, 16459, 16460, 16461, 16462, 16463, 16526, 16535, 16536, 16559, 16574, 16583, 16584, 16597, 16606, 16607, 16621, 16630, 16649, 16650, 16675, 16693, 16702, 16703, 16717, 16726, 16727, 16741, 16750, 16751, 16765, 16774, 16775, 16798, 16817, 16818, 16819, 16820, 16821, 16861, 16870, 16871, 16885, 16894, 16895, 16909, 16918, 16919, 16933, 16942, 16957, 16966, 17029, 17053, 17062, 17063, 17077, 17086, 17087, 17101]\n"
          ]
        }
      ],
      "source": [
        "#Mengecek apakah ada outlier pada kolom casual, registered, dan cnt menggunakan bloxpot\n",
        "\n",
        "# Visualisasi data menggunakan box plot\n",
        "plt.figure(figsize=(10, 6))\n",
        "hour_df.boxplot(column=['casual', 'registered', 'cnt'])\n",
        "plt.title('Box Plot untuk Variabel Casual, Registered, dan Cnt')\n",
        "plt.ylabel('Jumlah')\n",
        "plt.show()\n",
        "\n",
        "# Menghitung Q1 dan Q3\n",
        "Q1 = hour_df[['casual', 'registered', 'cnt']].quantile(0.25)\n",
        "Q3 = hour_df[['casual', 'registered', 'cnt']].quantile(0.75)\n",
        "\n",
        "# Menghitung IQR\n",
        "IQR = Q3 - Q1\n",
        "\n",
        "# Mengidentifikasi outlier berdasarkan metode IQR\n",
        "outliers = ((hour_df[['casual', 'registered', 'cnt']] < (Q1 - 1.5 * IQR)) | (hour_df[['casual', 'registered', 'cnt']] > (Q3 + 1.5 * IQR))).any(axis=1)\n",
        "\n",
        "# Menampilkan outlier\n",
        "print(\"Jumlah Outlier:\", outliers.sum())\n",
        "print(\"Indeks Outlier:\", hour_df.index[outliers].tolist())\n"
      ]
    },
    {
      "cell_type": "markdown",
      "metadata": {
        "id": "jXJS78JhWHms"
      },
      "source": [
        "Keterangan : Ternyata pada bagian casual, registered, dan cnt benar adanya outlier"
      ]
    },
    {
      "cell_type": "markdown",
      "metadata": {
        "id": "EhN5R4hr8DC1"
      },
      "source": [
        "### Cleaning Data"
      ]
    },
    {
      "cell_type": "markdown",
      "metadata": {
        "id": "WLd1DT4xPuV9"
      },
      "source": [
        "Proses untuk membersihkan data dari kesalahan, kecacatan, atau ketidaksempurnaan yang dapat mengganggu analisis data atau pemodelan.\n",
        "Dari hasil assesing diatas terdapat beberapa data yang harus dibersihkan yaitu:\n",
        "1. Mengubah tipe data pada dtday yang semula object menjadi datetime\n",
        "2. menghilangkan outlier"
      ]
    },
    {
      "cell_type": "code",
      "execution_count": 18,
      "metadata": {
        "id": "jVnYpprE9Evz"
      },
      "outputs": [],
      "source": [
        "#1. Mengubah tipe data pada dtday menjadi datetime\n",
        "day_df[\"dteday\"] = pd.to_datetime(day_df[\"dteday\"])\n",
        "hour_df['dteday'] = pd.to_datetime(hour_df['dteday'])\n"
      ]
    },
    {
      "cell_type": "code",
      "execution_count": 19,
      "metadata": {
        "colab": {
          "base_uri": "https://localhost:8080/"
        },
        "id": "qONbOK-MU0fm",
        "outputId": "9cfdc0e4-a2d1-44ea-b55c-5021f4cf046d"
      },
      "outputs": [
        {
          "name": "stdout",
          "output_type": "stream",
          "text": [
            "<class 'pandas.core.frame.DataFrame'>\n",
            "RangeIndex: 731 entries, 0 to 730\n",
            "Data columns (total 16 columns):\n",
            " #   Column      Non-Null Count  Dtype         \n",
            "---  ------      --------------  -----         \n",
            " 0   instant     731 non-null    int64         \n",
            " 1   dteday      731 non-null    datetime64[ns]\n",
            " 2   season      731 non-null    int64         \n",
            " 3   yr          731 non-null    int64         \n",
            " 4   mnth        731 non-null    int64         \n",
            " 5   holiday     731 non-null    int64         \n",
            " 6   weekday     731 non-null    int64         \n",
            " 7   workingday  731 non-null    int64         \n",
            " 8   weathersit  731 non-null    int64         \n",
            " 9   temp        731 non-null    float64       \n",
            " 10  atemp       731 non-null    float64       \n",
            " 11  hum         731 non-null    float64       \n",
            " 12  windspeed   731 non-null    float64       \n",
            " 13  casual      731 non-null    int64         \n",
            " 14  registered  731 non-null    int64         \n",
            " 15  cnt         731 non-null    int64         \n",
            "dtypes: datetime64[ns](1), float64(4), int64(11)\n",
            "memory usage: 91.5 KB\n",
            "None\n",
            "<class 'pandas.core.frame.DataFrame'>\n",
            "RangeIndex: 17379 entries, 0 to 17378\n",
            "Data columns (total 17 columns):\n",
            " #   Column      Non-Null Count  Dtype         \n",
            "---  ------      --------------  -----         \n",
            " 0   instant     17379 non-null  int64         \n",
            " 1   dteday      17379 non-null  datetime64[ns]\n",
            " 2   season      17379 non-null  int64         \n",
            " 3   yr          17379 non-null  int64         \n",
            " 4   mnth        17379 non-null  int64         \n",
            " 5   hr          17379 non-null  int64         \n",
            " 6   holiday     17379 non-null  int64         \n",
            " 7   weekday     17379 non-null  int64         \n",
            " 8   workingday  17379 non-null  int64         \n",
            " 9   weathersit  17379 non-null  int64         \n",
            " 10  temp        17379 non-null  float64       \n",
            " 11  atemp       17379 non-null  float64       \n",
            " 12  hum         17379 non-null  float64       \n",
            " 13  windspeed   17379 non-null  float64       \n",
            " 14  casual      17379 non-null  int64         \n",
            " 15  registered  17379 non-null  int64         \n",
            " 16  cnt         17379 non-null  int64         \n",
            "dtypes: datetime64[ns](1), float64(4), int64(12)\n",
            "memory usage: 2.3 MB\n",
            "None\n"
          ]
        }
      ],
      "source": [
        "#Mengecek Tipe data\n",
        "print(day_df.info())\n",
        "print(hour_df.info())"
      ]
    },
    {
      "cell_type": "markdown",
      "metadata": {
        "id": "8vk7TmTizdnM"
      },
      "source": [
        "Keterangan :\n",
        "- pd.to_datetime() digunakan untuk mengonversi kolom dteday dalam kedua DataFrame (day_df dan hour_df) menjadi tipe data datetime. Ini berguna karena dalam analisis data, seringkali kita ingin memanipulasi tanggal dan waktu.\n",
        "- astype('category') digunakan untuk mengubah kolom-kolom tertentu dalam kedua DataFrame menjadi tipe data kategori (category). Hal ini umumnya dilakukan pada kolom-kolom yang memuat data kategori atau faktor yang memiliki nilai terbatas dan biasanya tidak berurutan. Dalam kasus ini, kolom yang diubah menjadi kategori adalah season, yr, mnth, holiday, weekday, workingday, dan weathersit."
      ]
    },
    {
      "cell_type": "code",
      "execution_count": 20,
      "metadata": {
        "colab": {
          "base_uri": "https://localhost:8080/"
        },
        "id": "xnrOPPx3WdMs",
        "outputId": "fc0465dd-b88d-4de8-a286-2dc2ce6d3d45"
      },
      "outputs": [
        {
          "name": "stdout",
          "output_type": "stream",
          "text": [
            "Jumlah outlier yang dihapus: 44\n",
            "     instant     dteday  season  yr  mnth  holiday  weekday  workingday  \\\n",
            "0          1 2011-01-01       1   0     1        0        6           0   \n",
            "1          2 2011-01-02       1   0     1        0        0           0   \n",
            "2          3 2011-01-03       1   0     1        0        1           1   \n",
            "3          4 2011-01-04       1   0     1        0        2           1   \n",
            "4          5 2011-01-05       1   0     1        0        3           1   \n",
            "..       ...        ...     ...  ..   ...      ...      ...         ...   \n",
            "726      727 2012-12-27       1   1    12        0        4           1   \n",
            "727      728 2012-12-28       1   1    12        0        5           1   \n",
            "728      729 2012-12-29       1   1    12        0        6           0   \n",
            "729      730 2012-12-30       1   1    12        0        0           0   \n",
            "730      731 2012-12-31       1   1    12        0        1           1   \n",
            "\n",
            "     weathersit      temp     atemp       hum  windspeed  casual  registered  \\\n",
            "0             2  0.344167  0.363625  0.805833   0.160446     331         654   \n",
            "1             2  0.363478  0.353739  0.696087   0.248539     131         670   \n",
            "2             1  0.196364  0.189405  0.437273   0.248309     120        1229   \n",
            "3             1  0.200000  0.212122  0.590435   0.160296     108        1454   \n",
            "4             1  0.226957  0.229270  0.436957   0.186900      82        1518   \n",
            "..          ...       ...       ...       ...        ...     ...         ...   \n",
            "726           2  0.254167  0.226642  0.652917   0.350133     247        1867   \n",
            "727           2  0.253333  0.255046  0.590000   0.155471     644        2451   \n",
            "728           2  0.253333  0.242400  0.752917   0.124383     159        1182   \n",
            "729           1  0.255833  0.231700  0.483333   0.350754     364        1432   \n",
            "730           2  0.215833  0.223487  0.577500   0.154846     439        2290   \n",
            "\n",
            "      cnt  \n",
            "0     985  \n",
            "1     801  \n",
            "2    1349  \n",
            "3    1562  \n",
            "4    1600  \n",
            "..    ...  \n",
            "726  2114  \n",
            "727  3095  \n",
            "728  1341  \n",
            "729  1796  \n",
            "730  2729  \n",
            "\n",
            "[687 rows x 16 columns]\n"
          ]
        }
      ],
      "source": [
        "#2. Menghilangkan outlier pada day.csv\n",
        "# Hitung Q1 dan Q3\n",
        "Q1 = day_df[['casual', 'registered', 'cnt']].quantile(0.25)\n",
        "Q3 = day_df[['casual', 'registered', 'cnt']].quantile(0.75)\n",
        "\n",
        "# Hitung IQR\n",
        "IQR = Q3 - Q1\n",
        "\n",
        "# Tentukan batas bawah dan batas atas untuk outlier\n",
        "lower_bound = Q1 - 1.5 * IQR\n",
        "upper_bound = Q3 + 1.5 * IQR\n",
        "\n",
        "# Identifikasi outlier\n",
        "outliers = ((day_df[['casual', 'registered', 'cnt']] < lower_bound) | (day_df[['casual', 'registered', 'cnt']] > upper_bound)).any(axis=1)\n",
        "\n",
        "# Hapus outlier dari DataFrame\n",
        "day_df_no_outliers = day_df[~outliers]\n",
        "\n",
        "# Cetak jumlah outlier yang dihapus\n",
        "print(\"Jumlah outlier yang dihapus:\", outliers.sum())\n",
        "\n",
        "# Cetak DataFrame setelah menghilangkan outlier\n",
        "print(day_df_no_outliers)"
      ]
    },
    {
      "cell_type": "markdown",
      "metadata": {
        "id": "Ud5I-vKXz62T"
      },
      "source": [
        "Keterangan : Kode program ini digunakan untuk menghilangkan outlier dari DataFrame day_df yang mungkin muncul pada kolom 'casual', 'registered', dan 'cnt'. Outlier adalah nilai-nilai ekstrim yang berada jauh dari sebagian besar data."
      ]
    },
    {
      "cell_type": "code",
      "execution_count": 21,
      "metadata": {
        "colab": {
          "base_uri": "https://localhost:8080/"
        },
        "id": "hl03xfl4Xdzg",
        "outputId": "8c68b6d5-179b-4ffc-8729-102eacc46a56"
      },
      "outputs": [
        {
          "name": "stdout",
          "output_type": "stream",
          "text": [
            "Jumlah outlier yang dihapus: 1821\n",
            "       instant     dteday  season  yr  mnth  hr  holiday  weekday  workingday  \\\n",
            "0            1 2011-01-01       1   0     1   0        0        6           0   \n",
            "1            2 2011-01-01       1   0     1   1        0        6           0   \n",
            "2            3 2011-01-01       1   0     1   2        0        6           0   \n",
            "3            4 2011-01-01       1   0     1   3        0        6           0   \n",
            "4            5 2011-01-01       1   0     1   4        0        6           0   \n",
            "...        ...        ...     ...  ..   ...  ..      ...      ...         ...   \n",
            "17374    17375 2012-12-31       1   1    12  19        0        1           1   \n",
            "17375    17376 2012-12-31       1   1    12  20        0        1           1   \n",
            "17376    17377 2012-12-31       1   1    12  21        0        1           1   \n",
            "17377    17378 2012-12-31       1   1    12  22        0        1           1   \n",
            "17378    17379 2012-12-31       1   1    12  23        0        1           1   \n",
            "\n",
            "       weathersit  temp   atemp   hum  windspeed  casual  registered  cnt  \n",
            "0               1  0.24  0.2879  0.81     0.0000       3          13   16  \n",
            "1               1  0.22  0.2727  0.80     0.0000       8          32   40  \n",
            "2               1  0.22  0.2727  0.80     0.0000       5          27   32  \n",
            "3               1  0.24  0.2879  0.75     0.0000       3          10   13  \n",
            "4               1  0.24  0.2879  0.75     0.0000       0           1    1  \n",
            "...           ...   ...     ...   ...        ...     ...         ...  ...  \n",
            "17374           2  0.26  0.2576  0.60     0.1642      11         108  119  \n",
            "17375           2  0.26  0.2576  0.60     0.1642       8          81   89  \n",
            "17376           1  0.26  0.2576  0.60     0.1642       7          83   90  \n",
            "17377           1  0.26  0.2727  0.56     0.1343      13          48   61  \n",
            "17378           1  0.26  0.2727  0.65     0.1343      12          37   49  \n",
            "\n",
            "[15558 rows x 17 columns]\n"
          ]
        }
      ],
      "source": [
        "#2. Menghilangkan outlier pada hour.csv\n",
        "# Hitung Q1 dan Q3\n",
        "Q1 = hour_df[['casual', 'registered', 'cnt']].quantile(0.25)\n",
        "Q3 = hour_df[['casual', 'registered', 'cnt']].quantile(0.75)\n",
        "\n",
        "# Hitung IQR\n",
        "IQR = Q3 - Q1\n",
        "\n",
        "# Tentukan batas bawah dan batas atas untuk outlier\n",
        "lower_bound = Q1 - 1.5 * IQR\n",
        "upper_bound = Q3 + 1.5 * IQR\n",
        "\n",
        "# Identifikasi outlier\n",
        "outliers = ((hour_df[['casual', 'registered', 'cnt']] < lower_bound) | (hour_df[['casual', 'registered', 'cnt']] > upper_bound)).any(axis=1)\n",
        "\n",
        "# Hapus outlier dari DataFrame\n",
        "hour_df_no_outliers = hour_df[~outliers]\n",
        "\n",
        "# Cetak jumlah outlier yang dihapus\n",
        "print(\"Jumlah outlier yang dihapus:\", outliers.sum())\n",
        "\n",
        "# Cetak DataFrame setelah menghilangkan outlier\n",
        "print(hour_df_no_outliers)\n"
      ]
    },
    {
      "cell_type": "markdown",
      "metadata": {
        "id": "hf9u8j410UJU"
      },
      "source": [
        "Keterangan : Kode program ini digunakan untuk menghilangkan outlier dari DataFrame day_df yang mungkin muncul pada kolom 'casual', 'registered', dan 'cnt'. Outlier adalah nilai-nilai ekstrim yang berada jauh dari sebagian besar data."
      ]
    },
    {
      "cell_type": "markdown",
      "metadata": {
        "id": "gp-Y6wU38DC1"
      },
      "source": [
        "## Exploratory Data Analysis (EDA)"
      ]
    },
    {
      "cell_type": "markdown",
      "metadata": {
        "id": "MW7WF2kr8DC1"
      },
      "source": [
        "1. Explorasi data pada day.csv"
      ]
    },
    {
      "cell_type": "code",
      "execution_count": 22,
      "metadata": {
        "colab": {
          "base_uri": "https://localhost:8080/",
          "height": 615
        },
        "id": "e9CQCZjk8DC2",
        "outputId": "ac642c99-3c29-4540-e12c-f4af4f7c2595"
      },
      "outputs": [
        {
          "data": {
            "text/html": [
              "<div>\n",
              "<style scoped>\n",
              "    .dataframe tbody tr th:only-of-type {\n",
              "        vertical-align: middle;\n",
              "    }\n",
              "\n",
              "    .dataframe tbody tr th {\n",
              "        vertical-align: top;\n",
              "    }\n",
              "\n",
              "    .dataframe thead th {\n",
              "        text-align: right;\n",
              "    }\n",
              "</style>\n",
              "<table border=\"1\" class=\"dataframe\">\n",
              "  <thead>\n",
              "    <tr style=\"text-align: right;\">\n",
              "      <th></th>\n",
              "      <th>instant</th>\n",
              "      <th>dteday</th>\n",
              "      <th>season</th>\n",
              "      <th>yr</th>\n",
              "      <th>mnth</th>\n",
              "      <th>holiday</th>\n",
              "      <th>weekday</th>\n",
              "      <th>workingday</th>\n",
              "      <th>weathersit</th>\n",
              "      <th>temp</th>\n",
              "      <th>atemp</th>\n",
              "      <th>hum</th>\n",
              "      <th>windspeed</th>\n",
              "      <th>casual</th>\n",
              "      <th>registered</th>\n",
              "      <th>cnt</th>\n",
              "    </tr>\n",
              "  </thead>\n",
              "  <tbody>\n",
              "    <tr>\n",
              "      <th>count</th>\n",
              "      <td>731.000000</td>\n",
              "      <td>731</td>\n",
              "      <td>731.000000</td>\n",
              "      <td>731.000000</td>\n",
              "      <td>731.000000</td>\n",
              "      <td>731.000000</td>\n",
              "      <td>731.000000</td>\n",
              "      <td>731.000000</td>\n",
              "      <td>731.000000</td>\n",
              "      <td>731.000000</td>\n",
              "      <td>731.000000</td>\n",
              "      <td>731.000000</td>\n",
              "      <td>731.000000</td>\n",
              "      <td>731.000000</td>\n",
              "      <td>731.000000</td>\n",
              "      <td>731.000000</td>\n",
              "    </tr>\n",
              "    <tr>\n",
              "      <th>mean</th>\n",
              "      <td>366.000000</td>\n",
              "      <td>2012-01-01 00:00:00</td>\n",
              "      <td>2.496580</td>\n",
              "      <td>0.500684</td>\n",
              "      <td>6.519836</td>\n",
              "      <td>0.028728</td>\n",
              "      <td>2.997264</td>\n",
              "      <td>0.683995</td>\n",
              "      <td>1.395349</td>\n",
              "      <td>0.495385</td>\n",
              "      <td>0.474354</td>\n",
              "      <td>0.627894</td>\n",
              "      <td>0.190486</td>\n",
              "      <td>848.176471</td>\n",
              "      <td>3656.172367</td>\n",
              "      <td>4504.348837</td>\n",
              "    </tr>\n",
              "    <tr>\n",
              "      <th>min</th>\n",
              "      <td>1.000000</td>\n",
              "      <td>2011-01-01 00:00:00</td>\n",
              "      <td>1.000000</td>\n",
              "      <td>0.000000</td>\n",
              "      <td>1.000000</td>\n",
              "      <td>0.000000</td>\n",
              "      <td>0.000000</td>\n",
              "      <td>0.000000</td>\n",
              "      <td>1.000000</td>\n",
              "      <td>0.059130</td>\n",
              "      <td>0.079070</td>\n",
              "      <td>0.000000</td>\n",
              "      <td>0.022392</td>\n",
              "      <td>2.000000</td>\n",
              "      <td>20.000000</td>\n",
              "      <td>22.000000</td>\n",
              "    </tr>\n",
              "    <tr>\n",
              "      <th>25%</th>\n",
              "      <td>183.500000</td>\n",
              "      <td>2011-07-02 12:00:00</td>\n",
              "      <td>2.000000</td>\n",
              "      <td>0.000000</td>\n",
              "      <td>4.000000</td>\n",
              "      <td>0.000000</td>\n",
              "      <td>1.000000</td>\n",
              "      <td>0.000000</td>\n",
              "      <td>1.000000</td>\n",
              "      <td>0.337083</td>\n",
              "      <td>0.337842</td>\n",
              "      <td>0.520000</td>\n",
              "      <td>0.134950</td>\n",
              "      <td>315.500000</td>\n",
              "      <td>2497.000000</td>\n",
              "      <td>3152.000000</td>\n",
              "    </tr>\n",
              "    <tr>\n",
              "      <th>50%</th>\n",
              "      <td>366.000000</td>\n",
              "      <td>2012-01-01 00:00:00</td>\n",
              "      <td>3.000000</td>\n",
              "      <td>1.000000</td>\n",
              "      <td>7.000000</td>\n",
              "      <td>0.000000</td>\n",
              "      <td>3.000000</td>\n",
              "      <td>1.000000</td>\n",
              "      <td>1.000000</td>\n",
              "      <td>0.498333</td>\n",
              "      <td>0.486733</td>\n",
              "      <td>0.626667</td>\n",
              "      <td>0.180975</td>\n",
              "      <td>713.000000</td>\n",
              "      <td>3662.000000</td>\n",
              "      <td>4548.000000</td>\n",
              "    </tr>\n",
              "    <tr>\n",
              "      <th>75%</th>\n",
              "      <td>548.500000</td>\n",
              "      <td>2012-07-01 12:00:00</td>\n",
              "      <td>3.000000</td>\n",
              "      <td>1.000000</td>\n",
              "      <td>10.000000</td>\n",
              "      <td>0.000000</td>\n",
              "      <td>5.000000</td>\n",
              "      <td>1.000000</td>\n",
              "      <td>2.000000</td>\n",
              "      <td>0.655417</td>\n",
              "      <td>0.608602</td>\n",
              "      <td>0.730209</td>\n",
              "      <td>0.233214</td>\n",
              "      <td>1096.000000</td>\n",
              "      <td>4776.500000</td>\n",
              "      <td>5956.000000</td>\n",
              "    </tr>\n",
              "    <tr>\n",
              "      <th>max</th>\n",
              "      <td>731.000000</td>\n",
              "      <td>2012-12-31 00:00:00</td>\n",
              "      <td>4.000000</td>\n",
              "      <td>1.000000</td>\n",
              "      <td>12.000000</td>\n",
              "      <td>1.000000</td>\n",
              "      <td>6.000000</td>\n",
              "      <td>1.000000</td>\n",
              "      <td>3.000000</td>\n",
              "      <td>0.861667</td>\n",
              "      <td>0.840896</td>\n",
              "      <td>0.972500</td>\n",
              "      <td>0.507463</td>\n",
              "      <td>3410.000000</td>\n",
              "      <td>6946.000000</td>\n",
              "      <td>8714.000000</td>\n",
              "    </tr>\n",
              "    <tr>\n",
              "      <th>std</th>\n",
              "      <td>211.165812</td>\n",
              "      <td>NaN</td>\n",
              "      <td>1.110807</td>\n",
              "      <td>0.500342</td>\n",
              "      <td>3.451913</td>\n",
              "      <td>0.167155</td>\n",
              "      <td>2.004787</td>\n",
              "      <td>0.465233</td>\n",
              "      <td>0.544894</td>\n",
              "      <td>0.183051</td>\n",
              "      <td>0.162961</td>\n",
              "      <td>0.142429</td>\n",
              "      <td>0.077498</td>\n",
              "      <td>686.622488</td>\n",
              "      <td>1560.256377</td>\n",
              "      <td>1937.211452</td>\n",
              "    </tr>\n",
              "  </tbody>\n",
              "</table>\n",
              "</div>"
            ],
            "text/plain": [
              "          instant               dteday      season          yr        mnth  \\\n",
              "count  731.000000                  731  731.000000  731.000000  731.000000   \n",
              "mean   366.000000  2012-01-01 00:00:00    2.496580    0.500684    6.519836   \n",
              "min      1.000000  2011-01-01 00:00:00    1.000000    0.000000    1.000000   \n",
              "25%    183.500000  2011-07-02 12:00:00    2.000000    0.000000    4.000000   \n",
              "50%    366.000000  2012-01-01 00:00:00    3.000000    1.000000    7.000000   \n",
              "75%    548.500000  2012-07-01 12:00:00    3.000000    1.000000   10.000000   \n",
              "max    731.000000  2012-12-31 00:00:00    4.000000    1.000000   12.000000   \n",
              "std    211.165812                  NaN    1.110807    0.500342    3.451913   \n",
              "\n",
              "          holiday     weekday  workingday  weathersit        temp       atemp  \\\n",
              "count  731.000000  731.000000  731.000000  731.000000  731.000000  731.000000   \n",
              "mean     0.028728    2.997264    0.683995    1.395349    0.495385    0.474354   \n",
              "min      0.000000    0.000000    0.000000    1.000000    0.059130    0.079070   \n",
              "25%      0.000000    1.000000    0.000000    1.000000    0.337083    0.337842   \n",
              "50%      0.000000    3.000000    1.000000    1.000000    0.498333    0.486733   \n",
              "75%      0.000000    5.000000    1.000000    2.000000    0.655417    0.608602   \n",
              "max      1.000000    6.000000    1.000000    3.000000    0.861667    0.840896   \n",
              "std      0.167155    2.004787    0.465233    0.544894    0.183051    0.162961   \n",
              "\n",
              "              hum   windspeed       casual   registered          cnt  \n",
              "count  731.000000  731.000000   731.000000   731.000000   731.000000  \n",
              "mean     0.627894    0.190486   848.176471  3656.172367  4504.348837  \n",
              "min      0.000000    0.022392     2.000000    20.000000    22.000000  \n",
              "25%      0.520000    0.134950   315.500000  2497.000000  3152.000000  \n",
              "50%      0.626667    0.180975   713.000000  3662.000000  4548.000000  \n",
              "75%      0.730209    0.233214  1096.000000  4776.500000  5956.000000  \n",
              "max      0.972500    0.507463  3410.000000  6946.000000  8714.000000  \n",
              "std      0.142429    0.077498   686.622488  1560.256377  1937.211452  "
            ]
          },
          "execution_count": 22,
          "metadata": {},
          "output_type": "execute_result"
        }
      ],
      "source": [
        "day_df.describe(include=\"all\")"
      ]
    },
    {
      "cell_type": "markdown",
      "metadata": {
        "id": "SNL-1rO610lN"
      },
      "source": [
        "Keterangan : Kode day_df.describe(include=\"all\") digunakan untuk menghasilkan statistik deskriptif dari DataFrame day_df, termasuk statistik untuk kolom-kolom dengan tipe data numerik maupun kategorikal."
      ]
    },
    {
      "cell_type": "markdown",
      "metadata": {
        "id": "cwEOP0J15vny"
      },
      "source": [
        "- Menghitung rata-rata jumlah sepeda yang dipinjam per bulan"
      ]
    },
    {
      "cell_type": "code",
      "execution_count": 23,
      "metadata": {
        "colab": {
          "base_uri": "https://localhost:8080/"
        },
        "id": "V957l46vkje0",
        "outputId": "569bc8ff-48fe-4b68-fb3f-def03896deb4"
      },
      "outputs": [
        {
          "name": "stdout",
          "output_type": "stream",
          "text": [
            "Average Number of Bicycles Rented per Month:\n",
            "                   cnt\n",
            "mnth                  \n",
            "April      4484.900000\n",
            "August     5664.419355\n",
            "December   3403.806452\n",
            "February   2655.298246\n",
            "January    2176.338710\n",
            "July       5563.677419\n",
            "June       5772.366667\n",
            "March      3692.258065\n",
            "May        5349.774194\n",
            "November   4247.183333\n",
            "October    5199.225806\n",
            "September  5766.516667\n"
          ]
        }
      ],
      "source": [
        "# Membuat dictionary untuk pemetaan dari angka bulan ke nama bulan\n",
        "mnth_dict = {\n",
        "    1: 'January', 2: 'February', 3: 'March', 4: 'April',\n",
        "    5: 'May', 6: 'June', 7: 'July', 8: 'August',\n",
        "    9: 'September', 10: 'October', 11: 'November', 12: 'December'\n",
        "}\n",
        "\n",
        "# Mengubah nilai bulan dalam kolom 'mnth' menjadi nama bulan\n",
        "day_df['mnth'] = day_df['mnth'].map(mnth_dict)\n",
        "\n",
        "# Menghitung rata-rata jumlah sepeda yang dipinjam per bulan\n",
        "monthly_avg_cnt = day_df.groupby('mnth').agg({'cnt': 'mean'})\n",
        "\n",
        "# Menampilkan hasil eksplorasi data\n",
        "print(\"Average Number of Bicycles Rented per Month:\")\n",
        "print(monthly_avg_cnt)\n"
      ]
    },
    {
      "cell_type": "markdown",
      "metadata": {
        "id": "3sjQn4BX3JIP"
      },
      "source": [
        "Keterangan : Kode tersebut bertujuan untuk menghitung rata-rata jumlah sepeda yang dipinjam setiap bulannya berdasarkan data yang tersedia dalam DataFrame `day_df`. Pertama, data dielompokkan berdasarkan bulan dengan menggunakan fungsi `groupby('mnth')`, yang menghasilkan serangkaian grup data terpisah untuk setiap bulan. Selanjutnya, untuk setiap grup bulan, dilakukan perhitungan rata-rata dari jumlah sepeda yang dipinjam, diwakili oleh kolom 'cnt', dengan menggunakan metode `agg({'cnt': 'mean'})`. Hasil perhitungan ini kemudian dicetak menggunakan pernyataan `print()`, dimulai dengan pesan yang memberikan konteks terhadap informasi yang akan ditampilkan, yaitu \"Average Number of Bicycles Rented per Month:\". Setelah itu, rata-rata jumlah sepeda yang dipinjam per bulan dicetak sebagai output dari kode tersebut. Dengan demikian, proses ini memungkinkan untuk mendapatkan pemahaman yang lebih baik tentang pola peminjaman sepeda dari waktu ke waktu, yang dapat berguna dalam analisis dan pengambilan keputusan terkait pengelolaan sepeda."
      ]
    },
    {
      "cell_type": "markdown",
      "metadata": {
        "id": "hdfcb6uz57SR"
      },
      "source": [
        "- Menghitung rata-rata jumlah sepeda berdasarkan musim"
      ]
    },
    {
      "cell_type": "code",
      "execution_count": 24,
      "metadata": {
        "colab": {
          "base_uri": "https://localhost:8080/"
        },
        "id": "I0xtQNzRlONH",
        "outputId": "31357f7f-02f9-4593-8c55-5ff79f134f46"
      },
      "outputs": [
        {
          "name": "stdout",
          "output_type": "stream",
          "text": [
            "\n",
            "Jumlah Total Sepeda Dipinjam per Musim:\n",
            "            cnt\n",
            "season         \n",
            "Fall    1061129\n",
            "Spring   471348\n",
            "Summer   918589\n",
            "Winter   841613\n"
          ]
        }
      ],
      "source": [
        "# Membuat dictionary untuk pemetaan dari angka musim ke nama musim\n",
        "season_dict = {\n",
        "    1: 'Spring', 2: 'Summer', 3: 'Fall', 4: 'Winter'\n",
        "}\n",
        "\n",
        "# Mengubah nilai musim dalam kolom 'season' menjadi nama musim\n",
        "day_df['season'] = day_df['season'].map(season_dict)\n",
        "\n",
        "# Menghitung jumlah total sepeda yang dipinjam per musim\n",
        "season_total_cnt = day_df.groupby('season').agg({'cnt': 'sum'})\n",
        "\n",
        "# Menampilkan hasil eksplorasi data\n",
        "print(\"\\nJumlah Total Sepeda Dipinjam per Musim:\")\n",
        "print(season_total_cnt)\n"
      ]
    },
    {
      "cell_type": "markdown",
      "metadata": {
        "id": "Hut3s7Le6py4"
      },
      "source": [
        "Keterangan :\n",
        "Kode program tersebut bertujuan untuk menghitung jumlah total sepeda yang dipinjam (cnt) berdasarkan musim (season) dari data yang tersedia dalam DataFrame day_df, dan menampilkan hasilnya. Pertama, sebuah dictionary season_dict dibuat untuk melakukan pemetaan dari angka musim (1-4) ke nama musim yang sesuai. Selanjutnya, nilai musim dalam kolom 'season' dari DataFrame day_df diubah menjadi nama musim menggunakan metode map() dengan menggunakan dictionary season_dict yang telah dibuat. Setelah itu, dilakukan pengelompokkan data berdasarkan nama musim ('season') dan dihitung jumlah total sepeda yang dipinjam ('cnt') per musim dengan mengagregasi menggunakan fungsi 'sum'. Hasil perhitungan ini kemudian ditampilkan dalam format \"Jumlah Total Sepeda Dipinjam per Musim:\". Dengan demikian, kode tersebut memberikan informasi tentang jumlah total sepeda yang dipinjam dalam setiap musim secara agregat berdasarkan data yang dimiliki."
      ]
    },
    {
      "cell_type": "code",
      "execution_count": 25,
      "metadata": {
        "colab": {
          "base_uri": "https://localhost:8080/"
        },
        "id": "CUnbWy-Jlygi",
        "outputId": "bc865691-d5b7-4c56-d204-530bf069e22b"
      },
      "outputs": [
        {
          "name": "stdout",
          "output_type": "stream",
          "text": [
            "             casual   registered   cnt                   \n",
            "               mean         mean   max   min         mean\n",
            "season                                                   \n",
            "Fall    1202.611702  4441.691489  8714  1115  5644.303191\n",
            "Spring   334.928177  2269.204420  7836   431  2604.132597\n",
            "Summer  1106.097826  3886.233696  8362   795  4992.331522\n",
            "Winter   729.112360  3999.050562  8555    22  4728.162921\n"
          ]
        }
      ],
      "source": [
        "#untuk mengelompokkan data berdasarkan musim ('season')\n",
        "# Menggunakan groupby() dan agg() untuk menghitung statistik pada kolom 'casual', 'registered', dan 'count'\n",
        "season_stats = day_df.groupby(by='season').agg({\n",
        "    'casual': 'mean',         # Rata-rata jumlah sepeda dipinjam oleh pelanggan casual\n",
        "    'registered': 'mean',     # Rata-rata jumlah sepeda dipinjam oleh pelanggan terdaftar\n",
        "    'cnt': ['max', 'min', 'mean']  # Nilai maksimum, minimum, dan rata-rata jumlah sepeda dipinjam\n",
        "})\n",
        "\n",
        "# Menampilkan hasil eksplorasi data\n",
        "print(season_stats)"
      ]
    },
    {
      "cell_type": "markdown",
      "metadata": {
        "id": "7wVirbd765ui"
      },
      "source": [
        "- Heatmap  untuk mengeksplorasi hubungan antara variabel penyewa casual, registered, dan total penyewaan (count)"
      ]
    },
    {
      "cell_type": "code",
      "execution_count": 26,
      "metadata": {
        "colab": {
          "base_uri": "https://localhost:8080/",
          "height": 545
        },
        "id": "KsAT3SeGnOx6",
        "outputId": "ad8320b1-351c-46e8-9494-6ee2b58bc5ae"
      },
      "outputs": [
        {
          "data": {
            "image/png": "[encoded data removed]",
            "text/plain": [
              "<Figure size 1000x600 with 2 Axes>"
            ]
          },
          "metadata": {},
          "output_type": "display_data"
        }
      ],
      "source": [
        "# Matriks korelasi antara variabel numerik\n",
        "correlation_matrix = day_df[['casual', 'registered', 'cnt']].corr()\n",
        "\n",
        "# Membuat mask untuk setengah bawah matriks\n",
        "mask = np.triu(np.ones_like(correlation_matrix, dtype=bool))\n",
        "\n",
        "# Mengatur ukuran gambar\n",
        "plt.figure(figsize=(10, 6))\n",
        "\n",
        "# Membuat heatmap\n",
        "sns.heatmap(\n",
        "    correlation_matrix,\n",
        "    annot=True,\n",
        "    mask=mask,\n",
        "    cmap=\"coolwarm\",\n",
        "    center=0,\n",
        "    fmt=\".2f\"\n",
        ")\n",
        "\n",
        "# Menambahkan judul\n",
        "plt.title(\"Correlation Heatmap\")\n",
        "\n",
        "# Menampilkan plot\n",
        "plt.show()"
      ]
    },
    {
      "cell_type": "markdown",
      "metadata": {
        "id": "T3cPZkgG7d2m"
      },
      "source": [
        "Keterangan : Kode program tersebut digunakan untuk menghasilkan sebuah heatmap yang menampilkan matriks korelasi antara variabel numerik dalam DataFrame `day_df`, terutama variabel 'casual', 'registered', dan 'cnt'. Pertama, sebuah matriks korelasi dihitung menggunakan metode `.corr()` pada DataFrame `day_df`, yang memberikan nilai korelasi antara pasangan variabel. Selanjutnya, sebuah maska dibuat untuk menutupi setengah bagian bawah dari matriks korelasi agar hanya menampilkan korelasi antara variabel yang berbeda. Setelah itu, ukuran gambar plot heatmap diatur menggunakan `plt.figure(figsize=(10, 6))` untuk mendapatkan tampilan yang sesuai. Heatmap kemudian dibuat menggunakan `sns.heatmap()` dengan matriks korelasi sebagai input. Pada heatmap tersebut, nilai-nilai korelasi ditampilkan di dalam setiap sel untuk memberikan informasi lebih lanjut tentang hubungan antar variabel. Judul \"Correlation Heatmap\" ditambahkan untuk memberikan konteks pada visualisasi yang dihasilkan. Akhirnya, plot heatmap ditampilkan menggunakan `plt.show()`. Melalui visualisasi ini, kita dapat memahami seberapa kuat hubungan linear antara variabel-variabel yang diamati, yang berguna untuk analisis dan pemahaman lebih lanjut terhadap data yang ada."
      ]
    },
    {
      "cell_type": "markdown",
      "metadata": {
        "id": "WyrAWr5v8CiX"
      },
      "source": [
        "- Histogram yang menampilkan distribusi jumlah sepeda yang dipinjam (cnt)"
      ]
    },
    {
      "cell_type": "code",
      "execution_count": 27,
      "metadata": {
        "colab": {
          "base_uri": "https://localhost:8080/",
          "height": 564
        },
        "id": "R56op-b3g8CZ",
        "outputId": "f3e60585-4645-413d-db34-957edd977266"
      },
      "outputs": [
        {
          "data": {
            "image/png": "[encoded data removed]",
            "text/plain": [
              "<Figure size 1000x600 with 1 Axes>"
            ]
          },
          "metadata": {},
          "output_type": "display_data"
        }
      ],
      "source": [
        "plt.figure(figsize=(10, 6))\n",
        "sns.histplot(data=day_df, x='cnt', bins=30, kde=True, color='skyblue')\n",
        "plt.title('Distribusi Jumlah Sepeda yang Dipinjam (cnt)')\n",
        "plt.xlabel('Jumlah Sepeda')\n",
        "plt.ylabel('Frekuensi')\n",
        "plt.show()"
      ]
    },
    {
      "cell_type": "markdown",
      "metadata": {
        "id": "ZnHN5VdW8Ml0"
      },
      "source": [
        "Keterangan : Kode program tersebut digunakan untuk membuat sebuah histogram yang menggambarkan distribusi jumlah sepeda yang dipinjam (cnt) berdasarkan data yang tersedia dalam DataFrame `day_df`. Pertama, ukuran gambar plot histogram diatur menjadi 10x6 inch menggunakan `plt.figure(figsize=(10, 6))`. Selanjutnya, histogram dibuat menggunakan `sns.histplot()` dengan variabel 'cnt' yang merupakan jumlah sepeda yang dipinjam sebagai data yang akan divisualisasikan. Histogram ini dibagi menjadi 30 bins atau klasifikasi, dan juga menampilkan KDE (Kernel Density Estimate) dalam plot. Warna histogram ditetapkan sebagai 'skyblue'. Selanjutnya, judul 'Distribusi Jumlah Sepeda yang Dipinjam (cnt)' ditambahkan untuk memberikan konteks pada plot histogram. Sumu x diberi label 'Jumlah Sepeda', sedangkan sumbu y diberi label 'Frekuensi'. Terakhir, plot histogram ditampilkan menggunakan `plt.show()`. Melalui visualisasi ini, kita dapat memahami pola distribusi dari jumlah sepeda yang dipinjam dalam DataFrame `day_df`, yang berguna untuk analisis dan pemahaman lebih lanjut terhadap data."
      ]
    },
    {
      "cell_type": "markdown",
      "metadata": {
        "id": "cFXE7RsE8Uo1"
      },
      "source": [
        "- Melihat hubungan 'temp' (suhu) dan 'cnt' (jumlah sepeda yang dipinjam) menggunakan scatter plot"
      ]
    },
    {
      "cell_type": "code",
      "execution_count": 28,
      "metadata": {
        "colab": {
          "base_uri": "https://localhost:8080/",
          "height": 564
        },
        "id": "yVvLckRlhFLx",
        "outputId": "9e30debf-b6c4-4ab7-f64f-84d01ed91d2d"
      },
      "outputs": [
        {
          "data": {
            "image/png": "[encoded data removed]",
            "text/plain": [
              "<Figure size 1000x600 with 1 Axes>"
            ]
          },
          "metadata": {},
          "output_type": "display_data"
        }
      ],
      "source": [
        "# Menampilkan hubungan antara variabel 'temp' (suhu) dan 'cnt' (jumlah sepeda yang dipinjam) menggunakan scatter plot\n",
        "plt.figure(figsize=(10, 6))\n",
        "sns.scatterplot(data=day_df, x='temp', y='cnt', color='coral')\n",
        "plt.title('Hubungan antara Suhu dan Jumlah Sepeda yang Dipinjam')\n",
        "plt.xlabel('Suhu (Celsius)')\n",
        "plt.ylabel('Jumlah Sepeda')\n",
        "plt.show()"
      ]
    },
    {
      "cell_type": "markdown",
      "metadata": {
        "id": "SIuN50jf8fsV"
      },
      "source": [
        "Keterangan : Kode program tersebut bertujuan untuk menampilkan hubungan antara dua variabel, yaitu 'temp' (suhu) dan 'cnt' (jumlah sepeda yang dipinjam), menggunakan scatter plot berdasarkan data yang tersedia dalam DataFrame `day_df`. Pertama, ukuran gambar plot scatter plot diatur menjadi 10x6 inch menggunakan `plt.figure(figsize=(10, 6))`. Selanjutnya, scatter plot dibuat menggunakan `sns.scatterplot()` dengan 'temp' sebagai sumbu x dan 'cnt' sebagai sumbu y. Warna scatter plot ditetapkan sebagai 'coral'. Judul 'Hubungan antara Suhu dan Jumlah Sepeda yang Dipinjam' ditambahkan untuk memberikan konteks pada plot scatter. Sumu x diberi label 'Suhu (Celsius)', yang merepresentasikan suhu dalam satuan Celsius, sedangkan sumbu y diberi label 'Jumlah Sepeda', yang merepresentasikan jumlah sepeda yang dipinjam. Terakhir, plot scatter ditampilkan menggunakan `plt.show()`. Melalui visualisasi ini, kita dapat memahami hubungan antara suhu dan jumlah sepeda yang dipinjam, yang berguna untuk analisis dan pemahaman lebih lanjut terhadap data."
      ]
    },
    {
      "cell_type": "markdown",
      "metadata": {
        "id": "kfEjBOqO8iVE"
      },
      "source": [
        "- Hubungan musim dengan jumlah sewa berdasarkan working day"
      ]
    },
    {
      "cell_type": "code",
      "execution_count": 29,
      "metadata": {
        "colab": {
          "base_uri": "https://localhost:8080/",
          "height": 564
        },
        "id": "CUOO7oMRhK1j",
        "outputId": "99c65e14-5a8f-49c3-d095-01172af7cf44"
      },
      "outputs": [
        {
          "data": {
            "image/png": "[encoded data removed]",
            "text/plain": [
              "<Figure size 800x600 with 1 Axes>"
            ]
          },
          "metadata": {},
          "output_type": "display_data"
        }
      ],
      "source": [
        "plt.figure(figsize=(8, 6))\n",
        "sns.barplot(x='season', y='cnt', data=day_df, hue='workingday')\n",
        "plt.title('Hubungan musim dengan jumlah sewa berdasarkan working day')\n",
        "plt.show()"
      ]
    },
    {
      "cell_type": "markdown",
      "metadata": {
        "id": "R1XTSpOK8uCI"
      },
      "source": [
        "Keterangan : Kode program di atas digunakan untuk membuat diagram batang (bar plot) yang menunjukkan hubungan antara musim (season) dengan jumlah sepeda yang dipinjam (cnt), dengan mempertimbangkan apakah hari tersebut merupakan hari kerja (working day) atau bukan. Pertama, ukuran gambar diagram batang diatur menjadi 8x6 inch menggunakan `plt.figure(figsize=(8, 6))`. Selanjutnya, diagram batang dibuat menggunakan `sns.barplot()` dengan sumbu x direpresentasikan oleh 'season' (musim), sumbu y direpresentasikan oleh 'cnt' (jumlah sepeda yang dipinjam), dan warna batang diatur berdasarkan apakah hari tersebut merupakan hari kerja atau tidak ('workingday'). Diagram batang ini membantu untuk membandingkan jumlah sepeda yang dipinjam di setiap musim, dengan perbedaan pada hari kerja dan hari libur. Judul 'Hubungan musim dengan jumlah sewa berdasarkan working day' ditambahkan untuk memberikan konteks pada diagram batang. Terakhir, diagram batang ditampilkan menggunakan `plt.show()`. Melalui visualisasi ini, kita dapat memahami bagaimana pola peminjaman sepeda berbeda-beda di setiap musim, tergantung pada apakah itu hari kerja atau hari libur."
      ]
    },
    {
      "cell_type": "markdown",
      "metadata": {
        "id": "zsyZjqak8DC2"
      },
      "source": [
        "## Visualization & Explanatory Analysis"
      ]
    },
    {
      "cell_type": "markdown",
      "metadata": {
        "id": "HZxOiQ6n8DC2"
      },
      "source": [
        "### Pertanyaan 1: Apakah cuaca tertentu memengaruhi pola penggunaan sepeda, seperti apakah orang lebih cenderung menggunakan sepeda saat cuaca cerah atau dihari-hari hujan?"
      ]
    },
    {
      "cell_type": "code",
      "execution_count": 32,
      "metadata": {
        "colab": {
          "base_uri": "https://localhost:8080/",
          "height": 750
        },
        "id": "0ZPM-4DPwF_3",
        "outputId": "b3de4ccf-5d99-4a9a-8a58-d4dae9fbcb7a"
      },
      "outputs": [
        {
          "name": "stderr",
          "output_type": "stream",
          "text": [
            "C:\\Users\\LENOVO\\AppData\\Local\\Temp\\ipykernel_26528\\71163443.py:17: FutureWarning: \n",
            "\n",
            "Passing `palette` without assigning `hue` is deprecated and will be removed in v0.14.0. Assign the `x` variable to `hue` and set `legend=False` for the same effect.\n",
            "\n",
            "  sns.barplot(x='weathersit', y='cnt', data=avg_bike_usage_by_weather, palette='coolwarm')\n"
          ]
        },
        {
          "data": {
            "image/png": "[encoded data removed]",
            "text/plain": [
              "<Figure size 1000x600 with 1 Axes>"
            ]
          },
          "metadata": {},
          "output_type": "display_data"
        }
      ],
      "source": [
        "# Membuat dictionary untuk pemetaan kondisi cuaca\n",
        "weather_mapping = {\n",
        "    1: 'Clear/Few clouds',\n",
        "    2: 'Mist/Cloudy',\n",
        "    3: 'Light Snow/Rain',\n",
        "    4: 'Heavy Rain/Ice Pallets/Thunderstorm/Mist'\n",
        "}\n",
        "\n",
        "# Mengubah nilai dalam kolom 'weathersit' menjadi deskripsi kondisi cuaca\n",
        "day_df['weathersit'] = day_df['weathersit'].map(weather_mapping)\n",
        "\n",
        "# Menghitung rata-rata jumlah sepeda yang dipinjam pada setiap kondisi cuaca\n",
        "avg_bike_usage_by_weather = day_df.groupby('weathersit')['cnt'].mean().reset_index()\n",
        "\n",
        "# Visualisasi\n",
        "plt.figure(figsize=(10, 6))\n",
        "sns.barplot(x='weathersit', y='cnt', data=avg_bike_usage_by_weather, palette='coolwarm')\n",
        "plt.title('Rata-rata Jumlah Sepeda yang Dipinjam Berdasarkan Kondisi Cuaca')\n",
        "plt.xlabel('Kondisi Cuaca')\n",
        "plt.ylabel('Rata-rata Jumlah Sepeda Dipinjam')\n",
        "plt.xticks(rotation=45)\n",
        "plt.show()\n"
      ]
    },
    {
      "cell_type": "markdown",
      "metadata": {
        "id": "DgHI7CiU8DC2"
      },
      "source": [
        "### Pertanyaan 2: Bagaimana pola penggunaan sepeda berubah sepanjang tahun di semua musim?\n"
      ]
    },
    {
      "cell_type": "code",
      "execution_count": 34,
      "metadata": {
        "colab": {
          "base_uri": "https://localhost:8080/",
          "height": 591
        },
        "id": "FnymsPuIq0C3",
        "outputId": "b0c972bc-0025-40c9-ffae-5ad794998e9a"
      },
      "outputs": [
        {
          "name": "stderr",
          "output_type": "stream",
          "text": [
            "No artists with labels found to put in legend.  Note that artists whose label start with an underscore are ignored when legend() is called with no argument.\n"
          ]
        },
        {
          "data": {
            "image/png": "[encoded data removed]",
            "text/plain": [
              "<Figure size 1200x600 with 1 Axes>"
            ]
          },
          "metadata": {},
          "output_type": "display_data"
        }
      ],
      "source": [
        "\n",
        "# Mendeklarasikan musim\n",
        "season_mapping = {\n",
        "    1: 'Winter',\n",
        "    2: 'Spring',\n",
        "    3: 'Summer',\n",
        "    4: 'Fall'\n",
        "}\n",
        "\n",
        "# Mengonversi kolom 'mnth' menjadi nama bulan\n",
        "month_names = {\n",
        "    1: 'Jan', 2: 'Feb', 3: 'Mar', 4: 'Apr', 5: 'May', 6: 'Jun',\n",
        "    7: 'Jul', 8: 'Aug', 9: 'Sep', 10: 'Oct', 11: 'Nov', 12: 'Dec'\n",
        "}\n",
        "day_df['mnth'] = day_df['mnth'].map(month_names)\n",
        "\n",
        "# Mengubah nilai dalam kolom 'season' menjadi musim yang telah dideklarasikan\n",
        "day_df['season'] = day_df['season'].map(season_mapping)\n",
        "\n",
        "# Menghitung rata-rata jumlah sepeda yang dipinjam pada setiap bulan untuk setiap musim\n",
        "seasonal_monthly_avg_cnt = day_df.groupby(['season', 'mnth'])['cnt'].mean().reset_index()\n",
        "\n",
        "# Memvisualisasikan tren penggunaan sepeda berubah sepanjang tahun di semua musim\n",
        "plt.figure(figsize=(12, 6))\n",
        "sns.lineplot(data=seasonal_monthly_avg_cnt, x='mnth', y='cnt', hue='season', marker='o')\n",
        "plt.title('Tren Penggunaan Sepeda berubah sepanjang Tahun di Semua Musim')\n",
        "plt.xlabel('Bulan')\n",
        "plt.ylabel('Rata-rata Jumlah Sepeda Dipinjam')\n",
        "plt.legend(title='Musim', loc='upper right')\n",
        "plt.xticks(rotation=45)\n",
        "plt.grid(True)\n",
        "plt.tight_layout()\n",
        "plt.show()\n"
      ]
    },
    {
      "cell_type": "markdown",
      "metadata": {
        "id": "dx2fntz_Bvxq"
      },
      "source": [
        "Keterangan : Kode program tersebut digunakan untuk menganalisis tren penggunaan sepeda berdasarkan musim selama satu tahun. Pertama-tama, dataset `day.csv` dibaca menggunakan Pandas dan disimpan dalam DataFrame `day_df`. Selanjutnya, sebuah dictionary `season_mapping` dideklarasikan untuk memetakan nilai dalam kolom 'season' menjadi musim yang sesuai, yaitu Winter, Spring, Summer, dan Fall. Kemudian, kolom 'mnth' yang sebelumnya berisi angka bulan diubah menjadi nama bulan menggunakan dictionary `month_names`. Selanjutnya, nilai dalam kolom 'season' juga diubah menjadi musim yang sesuai berdasarkan mapping yang telah dideklarasikan sebelumnya.\n",
        "\n",
        "Setelah itu, dilakukan penghitungan rata-rata jumlah sepeda yang dipinjam pada setiap bulan untuk setiap musim menggunakan metode `groupby`. Hasil penghitungan ini disimpan dalam DataFrame `seasonal_monthly_avg_cnt`. Terakhir, tren penggunaan sepeda berubah sepanjang tahun di semua musim divisualisasikan menggunakan `sns.lineplot()`. Dalam visualisasi ini, sumbu x menunjukkan bulan-bulan dalam setahun, sumbu y menunjukkan rata-rata jumlah sepeda yang dipinjam, dan warna garis berbeda-beda untuk setiap musim. Dengan demikian, kita dapat melihat bagaimana tren penggunaan sepeda bervariasi selama setahun berdasarkan musim."
      ]
    },
    {
      "cell_type": "markdown",
      "metadata": {
        "id": "x05ham7fwZ3E"
      },
      "source": [
        "### Pertanyaan 3: Bagaimana tren penggunaan sepeda berubah sepanjang tahun?"
      ]
    },
    {
      "cell_type": "code",
      "execution_count": 35,
      "metadata": {
        "colab": {
          "base_uri": "https://localhost:8080/",
          "height": 564
        },
        "id": "8anjarEDwY9E",
        "outputId": "ab97e7ee-7c49-4354-d96c-3954bb063f7f"
      },
      "outputs": [
        {
          "data": {
            "image/png": "[encoded data removed]",
            "text/plain": [
              "<Figure size 1000x600 with 1 Axes>"
            ]
          },
          "metadata": {},
          "output_type": "display_data"
        }
      ],
      "source": [
        "\n",
        "# Mengelompokkan data berdasarkan bulan dan menghitung jumlah total sepeda yang dipinjam setiap bulan\n",
        "monthly_usage = day_df.groupby(day_df['dteday'].dt.month)['cnt'].sum()\n",
        "\n",
        "# Visualisasi tren penggunaan sepeda sepanjang tahun\n",
        "plt.figure(figsize=(10, 6))\n",
        "monthly_usage.plot(kind='line', marker='o')\n",
        "plt.title('Tren Penggunaan Sepeda Sepanjang Tahun')\n",
        "plt.xlabel('Bulan')\n",
        "plt.ylabel('Jumlah Sepeda Dipinjam')\n",
        "plt.xticks(range(1, 13), ['Jan', 'Feb', 'Mar', 'Apr', 'May', 'Jun', 'Jul', 'Aug', 'Sep', 'Oct', 'Nov', 'Dec'])\n",
        "plt.grid(True)\n",
        "plt.show()"
      ]
    },
    {
      "cell_type": "markdown",
      "metadata": {
        "id": "4B5H0JUtDXig"
      },
      "source": [
        "Keterangan : Kode program tersebut digunakan untuk menganalisis tren penggunaan sepeda sepanjang tahun dengan mengelompokkan data berdasarkan bulan dan menghitung jumlah total sepeda yang dipinjam setiap bulan. Pertama, dilakukan pengelompokan data berdasarkan bulan menggunakan metode `groupby` pada kolom 'dteday' yang sudah diubah menjadi tipe data datetime. Selanjutnya, dilakukan perhitungan jumlah total sepeda yang dipinjam setiap bulan dengan menjumlahkan nilai kolom 'cnt'. Hasil perhitungan ini disimpan dalam variabel `monthly_usage`.\n",
        "\n",
        "Selanjutnya, untuk memvisualisasikan tren penggunaan sepeda sepanjang tahun, dilakukan plotting menggunakan matplotlib. Diagram garis digunakan untuk menggambarkan tren penggunaan sepeda, sedangkan titik-titik yang ditandai dengan marker 'o' digunakan untuk menunjukkan titik data. Grafik ini memiliki sumbu x yang menunjukkan bulan (dari Januari hingga Desember) dan sumbu y yang menunjukkan jumlah sepeda yang dipinjam. Terakhir, dilakukan penambahan judul, label sumbu, penentuan label untuk bulan, dan aktivasi grid untuk memperjelas visualisasi grafik. Dengan demikian, grafik tersebut memberikan gambaran tentang tren penggunaan sepeda selama satu tahun berdasarkan data bulanan."
      ]
    },
    {
      "cell_type": "markdown",
      "metadata": {
        "id": "_WeHlCeX8DC2"
      },
      "source": [
        "## Conclusion"
      ]
    },
    {
      "cell_type": "markdown",
      "metadata": {
        "id": "FW7u3P8xzFil"
      },
      "source": [
        "**Conclution pertanyaan 1**"
      ]
    },
    {
      "cell_type": "markdown",
      "metadata": {
        "id": "osDa090IzSjL"
      },
      "source": [
        "Berdasarkan analisis rata-rata jumlah sepeda yang dipinjam pada setiap kondisi cuaca dalam dataset day.csv, dapat disimpulkan bahwa cuaca tertentu memengaruhi pola penggunaan sepeda. Orang cenderung lebih banyak menggunakan sepeda saat cuaca cerah atau berawan dibandingkan dengan hari-hari hujan.\n",
        "\n",
        "Hal ini dapat dilihat dari perbedaan rata-rata jumlah sepeda yang dipinjam pada kondisi cuaca yang berbeda. Pada kondisi cuaca 'Clear/Partly Cloudy' (cerah/sebagian berawan), rata-rata jumlah sepeda yang dipinjam lebih tinggi dibandingkan dengan kondisi cuaca lainnya seperti 'Misty/Cloudy' (berkabut/berawan), 'Light Snow/Rain' (salju ringan/hujan ringan), dan 'Severe Weather' (cuaca ekstrim).\n",
        "\n",
        "Kesimpulannya, orang lebih cenderung menggunakan sepeda saat cuaca cerah atau berawan dibandingkan dengan cuaca hujan atau kondisi cuaca ekstrim."
      ]
    },
    {
      "cell_type": "markdown",
      "metadata": {
        "id": "ZTcyR48Y8DC2"
      },
      "source": [
        "**Conclution pertanyaan 2**"
      ]
    },
    {
      "cell_type": "markdown",
      "metadata": {
        "id": "DwCbfcVhzdAs"
      },
      "source": [
        "Berdasarkan analisis pola penggunaan sepeda sepanjang tahun di semua musim, dapat dilihat bahwa terdapat variasi dalam jumlah rata-rata sepeda yang dipinjam setiap bulannya untuk setiap musim. Berikut adalah beberapa kesimpulan berdasarkan visualisasi tersebut:\n",
        "\n",
        "1. **Musim Dingin (Winter)**: Terjadi penurunan signifikan dalam penggunaan sepeda pada bulan-bulan musim dingin, terutama pada bulan Desember, Januari, dan Februari. Ini mungkin disebabkan oleh cuaca yang lebih dingin dan kurangnya preferensi orang untuk menggunakan sepeda di musim dingin.\n",
        "\n",
        "2. **Musim Semi (Spring)**: Jumlah penggunaan sepeda cenderung meningkat secara bertahap seiring dengan berakhirnya musim dingin dan masuknya musim semi. Puncak penggunaan terjadi pada bulan Mei dan April, yang mungkin disebabkan oleh kondisi cuaca yang lebih hangat dan lebih menyenangkan bagi pengendara sepeda.\n",
        "\n",
        "3. **Musim Panas (Summer)**: Bulan-bulan musim panas, terutama bulan Juni, Juli, dan Agustus, menunjukkan tingkat penggunaan sepeda yang stabil dan tinggi. Ini menandakan bahwa musim panas menjadi waktu yang populer bagi masyarakat untuk menggunakan sepeda, mungkin karena cuaca yang cerah dan hangat.\n",
        "\n",
        "4. **Musim Gugur (Fall)**: Penggunaan sepeda cenderung menurun secara bertahap saat musim panas berakhir dan memasuki musim gugur. Meskipun masih tinggi pada bulan September, penggunaan sepeda mulai menurun pada bulan Oktober dan November, yang kemungkinan disebabkan oleh penurunan suhu dan peningkatan cuaca yang tidak stabil menjelang musim dingin.\n",
        "\n",
        "Kesimpulannya, pola penggunaan sepeda berubah secara signifikan sepanjang tahun di semua musim. Penggunaan sepeda cenderung meningkat saat memasuki musim semi dan musim panas, mencapai puncaknya pada musim panas, dan kemudian menurun saat memasuki musim gugur dan musim dingin. Faktor-faktor seperti suhu, cuaca, dan preferensi individu dapat memengaruhi pola penggunaan sepeda pada setiap musim."
      ]
    },
    {
      "cell_type": "markdown",
      "metadata": {
        "id": "aNd-_r5yz0BR"
      },
      "source": [
        "**Conclution pertanyaan 3**"
      ]
    },
    {
      "cell_type": "markdown",
      "metadata": {
        "id": "4Ju5czPCz4wu"
      },
      "source": [
        "Berdasarkan analisis tren penggunaan sepeda sepanjang tahun, dapat disimpulkan bahwa terdapat fluktuasi yang signifikan dalam jumlah rata-rata sepeda yang dipinjam pada setiap bulan. Berikut adalah kesimpulan mengenai tren penggunaan sepeda sepanjang tahun:\n",
        "\n",
        "1. **Musim Dingin (Desember - Februari)**: Terjadi penurunan drastis dalam penggunaan sepeda selama musim dingin, terutama pada bulan Desember, Januari, dan Februari. Penurunan ini kemungkinan besar disebabkan oleh cuaca yang lebih dingin dan kurangnya preferensi masyarakat untuk menggunakan sepeda di musim dingin.\n",
        "\n",
        "2. **Musim Semi (Maret - Mei)**: Jumlah penggunaan sepeda cenderung meningkat secara bertahap seiring dengan berakhirnya musim dingin dan masuknya musim semi. Puncak penggunaan terjadi pada bulan April dan Mei, yang mungkin disebabkan oleh kondisi cuaca yang lebih hangat dan lebih menyenangkan bagi pengendara sepeda.\n",
        "\n",
        "3. **Musim Panas (Juni - Agustus)**: Bulan-bulan musim panas menunjukkan tingkat penggunaan sepeda yang stabil dan tinggi. Ini menandakan bahwa musim panas menjadi waktu yang sangat populer bagi masyarakat untuk menggunakan sepeda, mungkin karena cuaca yang cerah dan hangat serta liburan musim panas.\n",
        "\n",
        "4. **Musim Gugur (September - November)**: Penggunaan sepeda cenderung menurun secara bertahap saat memasuki musim gugur. Meskipun masih tinggi pada bulan September, penggunaan sepeda mulai menurun pada bulan Oktober dan November, yang kemungkinan disebabkan oleh penurunan suhu dan peningkatan cuaca yang tidak stabil menjelang musim dingin.\n",
        "\n",
        "Kesimpulannya, tren penggunaan sepeda berubah secara signifikan sepanjang tahun, dengan pola yang konsisten dengan musim dan kondisi cuaca yang terkait. Faktor-faktor seperti suhu, cuaca, dan musim memengaruhi kecenderungan masyarakat dalam menggunakan sepeda, dengan musim panas menjadi periode dengan penggunaan sepeda yang paling tinggi."
      ]
    }
  ],
  "metadata": {
    "colab": {
      "collapsed_sections": [
        "HZxOiQ6n8DC2"
      ],
      "provenance": []
    },
    "kernelspec": {
      "display_name": "Python 3",
      "language": "python",
      "name": "python3"
    },
    "language_info": {
      "codemirror_mode": {
        "name": "ipython",
        "version": 3
      },
      "file_extension": ".py",
      "mimetype": "text/x-python",
      "name": "python",
      "nbconvert_exporter": "python",
      "pygments_lexer": "ipython3",
      "version": "3.11.1"
    },
    "orig_nbformat": 4,
    "vscode": {
      "interpreter": {
        "hash": "972b3bf27e332e87b5379f2791f6ef9dfc79c71018c370b0d7423235e20fe4d7"
      }
    }
  },
  "nbformat": 4,
  "nbformat_minor": 0
}
